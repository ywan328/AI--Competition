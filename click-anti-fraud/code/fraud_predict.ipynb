{
 "cells": [
  {
   "cell_type": "code",
   "execution_count": 1,
   "metadata": {},
   "outputs": [
    {
     "name": "stdout",
     "output_type": "stream",
     "text": [
      "test1.csv  train.csv\r\n"
     ]
    }
   ],
   "source": [
    "# 查看当前挂载的数据集目录, 该目录下的变更重启环境后会自动还原\n",
    "# View dataset directory. \n",
    "# This directory will be recovered automatically after resetting environment. \n",
    "!ls /home/aistudio/data"
   ]
  },
  {
   "cell_type": "code",
   "execution_count": null,
   "metadata": {},
   "outputs": [
    {
     "name": "stdout",
     "output_type": "stream",
     "text": [
      "fraud_prediction7_6(1).ipynb  fraud_prediction7_6.ipynb\r\n",
      "fraud_prediction7_6(2).ipynb\r\n"
     ]
    }
   ],
   "source": [
    "# 查看工作区文件, 该目录下的变更将会持久保存. 请及时清理不必要的文件, 避免加载过慢.\n",
    "# View personal work directory. \n",
    "# All changes under this directory will be kept even after reset. \n",
    "# Please clean unnecessary files in time to speed up environment loading. \n",
    "!ls /home/aistudio/work"
   ]
  },
  {
   "cell_type": "code",
   "execution_count": null,
   "metadata": {},
   "outputs": [
    {
     "name": "stdout",
     "output_type": "stream",
     "text": [
      "mkdir: cannot create directory ‘/home/aistudio/external-libraries’: File exists\n",
      "Looking in indexes: https://mirror.baidu.com/pypi/simple/\n",
      "Collecting beautifulsoup4\n",
      "\u001b[?25l  Downloading https://mirror.baidu.com/pypi/packages/d1/41/e6495bd7d3781cee623ce23ea6ac73282a373088fcd0ddc809a047b18eae/beautifulsoup4-4.9.3-py3-none-any.whl (115kB)\n",
      "\u001b[K     |████████████████████████████████| 122kB 16.7MB/s eta 0:00:01\n",
      "\u001b[?25hCollecting soupsieve>1.2; python_version >= \"3.0\" (from beautifulsoup4)\n",
      "  Downloading https://mirror.baidu.com/pypi/packages/36/69/d82d04022f02733bf9a72bc3b96332d360c0c5307096d76f6bb7489f7e57/soupsieve-2.2.1-py3-none-any.whl\n",
      "Installing collected packages: soupsieve, beautifulsoup4\n",
      "Successfully installed beautifulsoup4-4.9.3 soupsieve-2.2.1\n",
      "\u001b[33mWARNING: Target directory /home/aistudio/external-libraries/beautifulsoup4-4.9.3.dist-info already exists. Specify --upgrade to force replacement.\u001b[0m\n",
      "\u001b[33mWARNING: Target directory /home/aistudio/external-libraries/bs4 already exists. Specify --upgrade to force replacement.\u001b[0m\n",
      "\u001b[33mWARNING: Target directory /home/aistudio/external-libraries/soupsieve-2.2.1.dist-info already exists. Specify --upgrade to force replacement.\u001b[0m\n",
      "\u001b[33mWARNING: Target directory /home/aistudio/external-libraries/soupsieve already exists. Specify --upgrade to force replacement.\u001b[0m\n"
     ]
    }
   ],
   "source": [
    "# 如果需要进行持久化安装, 需要使用持久化路径, 如下方代码示例:\n",
    "# If a persistence installation is required, \n",
    "# you need to use the persistence path as the following: \n",
    "!mkdir /home/aistudio/external-libraries\n",
    "!pip install beautifulsoup4 -t /home/aistudio/external-libraries"
   ]
  },
  {
   "cell_type": "code",
   "execution_count": null,
   "metadata": {},
   "outputs": [],
   "source": [
    "# 同时添加如下代码, 这样每次环境(kernel)启动的时候只要运行下方代码即可: \n",
    "# Also add the following code, \n",
    "# so that every time the environment (kernel) starts, \n",
    "# just run the following code: \n",
    "import sys \n",
    "sys.path.append('/home/aistudio/external-libraries')"
   ]
  },
  {
   "cell_type": "code",
   "execution_count": null,
   "metadata": {},
   "outputs": [],
   "source": [
    "'''\n",
    "    找到关键特征才是王道\n",
    "    构造多个新特征，特征比大于10，Score=???\n",
    "    Score=?\n",
    "'''\n",
    "import pandas as pd\n",
    "train=pd.read_csv('./data/train.csv')\n",
    "test1=pd.read_csv('./data/test1.csv')\n",
    "train"
   ]
  },
  {
   "cell_type": "code",
   "execution_count": null,
   "metadata": {},
   "outputs": [],
   "source": [
    "features=train.drop(['Unnamed: 0','label'],axis=1)\n",
    "labels=train['label']\n",
    "features.columns"
   ]
  },
  {
   "cell_type": "code",
   "execution_count": null,
   "metadata": {},
   "outputs": [],
   "source": [
    "train.info()\n",
    "# 查看缺失值\n",
    "train.isnull().sum()"
   ]
  },
  {
   "cell_type": "code",
   "execution_count": null,
   "metadata": {},
   "outputs": [],
   "source": [
    "# 数据探索，找到导致1的关键特征值\n",
    "def find_key_feature(train,selected):\n",
    "    temp0=train[train['label']==0]\n",
    "    temp=pd.DataFrame(columns=[0,1])\n",
    "    temp[0]=temp0[selected].value_counts()/len(temp0)*100\n",
    "    temp1=train[train['label']==1]\n",
    "    temp[1]=temp1[selected].value_counts()/len(temp1)*100\n",
    "    temp[2]=temp[1]/temp[0]\n",
    "    # 选出大于10倍的特征\n",
    "    result=temp[temp[2]>10].sort_values(2,ascending=False).index\n",
    "    return result\n",
    "key_feature={}\n",
    "key_feature['osv']=find_key_feature(train,'osv')\n",
    "key_feature"
   ]
  },
  {
   "cell_type": "code",
   "execution_count": null,
   "metadata": {},
   "outputs": [],
   "source": [
    "features.columns"
   ]
  },
  {
   "cell_type": "code",
   "execution_count": null,
   "metadata": {},
   "outputs": [],
   "source": [
    "selected_cols=['osv', 'apptype', 'carrier', 'dev_height', 'dev_ppi','dev_width', 'lan', 'media_id', 'ntt', 'os', 'package', 'sid','timestamp', 'version', 'fea_hash', 'location', 'fea1_hash','cus_type']\n",
    "for selected in selected_cols:\n",
    "    key_feature[selected]=find_key_feature(train,selected)\n",
    "key_feature"
   ]
  },
  {
   "cell_type": "code",
   "execution_count": null,
   "metadata": {},
   "outputs": [],
   "source": [
    "# 构造新特征，新特征字段=原始特征字段+1\n",
    "def f(x,selected):\n",
    "    # 判断是否在关键特征值里，是1，否0\n",
    "    if x in key_feature[selected]:\n",
    "        return 1\n",
    "    else:\n",
    "        return 0\n",
    "\n",
    "for selected in selected_cols:\n",
    "    if len(key_feature[selected])>0:\n",
    "        features[selected+'1']=features[selected].apply(f,args=(selected, ))\n",
    "        test1[selected+'1']=test1[selected].apply(f,args=(selected, ))\n",
    "        print(selected+'1 created!!!')"
   ]
  },
  {
   "cell_type": "code",
   "execution_count": null,
   "metadata": {},
   "outputs": [],
   "source": [
    "features['osv1'].value_counts()"
   ]
  },
  {
   "cell_type": "code",
   "execution_count": null,
   "metadata": {},
   "outputs": [],
   "source": [
    "features[['osv1','apptype1','dev_height1','dev_ppi1','dev_width1','media_id1','ntt1','package1','fea_hash1','fea1_hash1']]"
   ]
  },
  {
   "cell_type": "code",
   "execution_count": null,
   "metadata": {},
   "outputs": [],
   "source": [
    "# 查看每个字段唯一值的个数，唯一值个数很少，说明是类别特征\n",
    "for feature in  features.columns:\n",
    "    print(feature,features[feature].nunique())\n",
    "# 确定类别特征\n",
    "cate_features=['apptype','carrier','ntt','version','location','cus_type']"
   ]
  },
  {
   "cell_type": "code",
   "execution_count": null,
   "metadata": {},
   "outputs": [],
   "source": [
    "import time # Python底层的日期函数\n",
    "from datetime import datetime # 高级封装接口\n",
    "\n",
    "def get_date(features):\n",
    "    # 除以1000,转换为日期格式\n",
    "    features['timestamp']=features['timestamp'].apply(lambda x:datetime.fromtimestamp(x/1000))\n",
    "    # 创建时间戳索引\n",
    "    temp=pd.DatetimeIndex(features['timestamp'])\n",
    "    features['year']=temp.year\n",
    "    features['month']=temp.month\n",
    "    features['day']=temp.day\n",
    "    features['week_day']=temp.weekday\n",
    "    features['hour']=temp.hour\n",
    "    features['minute']=temp.minute\n",
    "    \n",
    "    # 添加time_diff\n",
    "    start_time=features['timestamp'].min()\n",
    "    features['time_diff']=features['timestamp']-start_time   \n",
    "    # 将time_diff转换为小时\n",
    "    features['time_diff']=features['time_diff'].dt.days*24+features['time_diff'].dt.seconds/3600\n",
    "    # Thinking：是否需要这么多特征？？？\n",
    "    # 使用day,time_diff\n",
    "    features.drop(['timestamp','year','month','week_day','minute'],axis=1,inplace=True)\n",
    "    return features\n",
    "\n",
    "# 对训练集提取时间多尺度\n",
    "features=get_date(features)\n",
    "# 对测试集提取时间多尺度\n",
    "test1=get_date(test1)"
   ]
  },
  {
   "cell_type": "code",
   "execution_count": null,
   "metadata": {},
   "outputs": [],
   "source": [
    "# 对OSV进行LabelEncoder\n",
    "# 还需要转换为Float，需要做数据清洗\n",
    "from sklearn.preprocessing import LabelEncoder\n",
    "le=LabelEncoder()\n",
    "# 需要将训练集和测试集合并，然后统一做LabelEncoder\n",
    "all_df=pd.concat([train,test1])\n",
    "all_df['osv']=all_df['osv'].astype('str')\n",
    "all_df['osv']=le.fit_transform(all_df['osv'])\n",
    "all_df['osv']"
   ]
  },
  {
   "cell_type": "code",
   "execution_count": null,
   "metadata": {},
   "outputs": [],
   "source": [
    "# 不参与建模的特征['os','lan','sid']\n",
    "# os为Android,android 实际上是唯一的，去掉\n",
    "remove_list=['os','lan','sid']\n",
    "col=features.columns.tolist()\n",
    "for i in remove_list:\n",
    "    col.remove(i)\n",
    "col"
   ]
  },
  {
   "cell_type": "code",
   "execution_count": null,
   "metadata": {},
   "outputs": [],
   "source": [
    "# carries属于类别特征\n",
    "features['carrier'].value_counts()"
   ]
  },
  {
   "cell_type": "code",
   "execution_count": null,
   "metadata": {},
   "outputs": [],
   "source": [
    "# 特征筛选\n",
    "features=features[col]\n",
    "features"
   ]
  },
  {
   "cell_type": "code",
   "execution_count": null,
   "metadata": {},
   "outputs": [],
   "source": [
    "# 特征变换,对于数值过大的异常值 设置为0\n",
    "features['fea_hash']=features['fea_hash'].map(lambda x:0 if len(str(x))>16 else int(x))\n",
    "features['fea_hash']"
   ]
  },
  {
   "cell_type": "code",
   "execution_count": null,
   "metadata": {},
   "outputs": [],
   "source": [
    "features['fea1_hash']=features['fea1_hash'].map(lambda x:0 if len(str(x))>16 else int(x))\n",
    "features['fea1_hash']"
   ]
  },
  {
   "cell_type": "code",
   "execution_count": null,
   "metadata": {},
   "outputs": [],
   "source": [
    "features['version'].value_counts()"
   ]
  },
  {
   "cell_type": "code",
   "execution_count": null,
   "metadata": {},
   "outputs": [],
   "source": [
    "# 对数据清洗，将V3=>3,V1=>1,V6=>6,V2=>2\n",
    "# 针对version,非数值类型 设置0\n",
    "features['version']=features['version'].map(lambda x:int(x) if str(x).isdigit() else 0)\n",
    "features['version']"
   ]
  },
  {
   "cell_type": "code",
   "execution_count": null,
   "metadata": {},
   "outputs": [],
   "source": [
    "features['osv']=all_df[all_df['label'].notnull()]['osv']\n",
    "features['osv']"
   ]
  },
  {
   "cell_type": "code",
   "execution_count": null,
   "metadata": {},
   "outputs": [],
   "source": [
    "# 类别类型，需要数值\n",
    "features[cate_features]"
   ]
  },
  {
   "cell_type": "code",
   "execution_count": null,
   "metadata": {},
   "outputs": [],
   "source": [
    "features"
   ]
  },
  {
   "cell_type": "code",
   "execution_count": null,
   "metadata": {},
   "outputs": [],
   "source": [
    "from sklearn.model_selection import KFold,StratifiedKFold\n",
    "from sklearn.metrics import accuracy_score\n",
    "\n",
    "def ensemble_model(clf,train_x,train_y,test,cate_features):\n",
    "    # 采用五折交叉验证 ensemble model\n",
    "    sk=StratifiedKFold(n_splits=5,shuffle=True,random_state=2021)\n",
    "    prob=[]   # 记录最终结果\n",
    "    mean_acc=0   #记录平均准确率\n",
    "    for k,(train_index,val_index) in enumerate(sk.split(train_x,train_y)):\n",
    "        train_x_real=train_x.iloc[train_index]\n",
    "        train_y_real=train_y.iloc[train_index]\n",
    "        val_x=train_x.iloc[val_index]\n",
    "        val_y=train_y.iloc[val_index]\n",
    "        # 子模型训练\n",
    "        clf=clf.fit(train_x_real,train_y_real,categorical_feature=cate_features)\n",
    "        val_y_pred=clf.predict(val_x)\n",
    "        acc_val=accuracy_score(val_y,val_y_pred)\n",
    "        # 子模型评估\n",
    "        print('第{}个子模型acc:{}'.format(k+1,acc_val))\n",
    "        mean_acc+=acc_val/5\n",
    "        # 子模型预测0，1\n",
    "        test_y_pred=clf.predict_proba(test)[:,-1]  # soft 得到概率值\n",
    "        prob.append(test_y_pred)\n",
    "    print(mean_acc)\n",
    "    mean_prob=sum(prob)/5\n",
    "    return mean_prob"
   ]
  },
  {
   "cell_type": "code",
   "execution_count": null,
   "metadata": {},
   "outputs": [],
   "source": [
    "# 测试集预测，保持与features中的columns一致\n",
    "test_fea=test1[features.columns]\n",
    "\n",
    "# 特征变换,对于数值过大的异常值 设置为0\n",
    "test_fea['fea_hash']=test_fea['fea_hash'].map(lambda x:0 if len(str(x))>16 else int(x))\n",
    "test_fea['fea1_hash']=test_fea['fea1_hash'].map(lambda x:0 if len(str(x))>16 else int(x))\n",
    "# 对数据清洗，将V3=>3,V1=>1,V6=>6,V2=>2\n",
    "# 针对version,非数值类型 设置0\n",
    "test_fea['version']=test_fea['version'].map(lambda x:int(x) if str(x).isdigit() else 0)\n",
    "test_fea['osv']=all_df[all_df['label'].isnull()]['osv']"
   ]
  },
  {
   "cell_type": "code",
   "execution_count": null,
   "metadata": {},
   "outputs": [],
   "source": [
    "import lightgbm as lgb\n",
    "# 使用LightGBM训练\n",
    "# 相比XGBoost的改进：对类别特征的处理，不需要进行one-hot\n",
    "clf=lgb.LGBMClassifier(\n",
    "    num_leaves=2**5-1, \n",
    "    reg_alpha=0.25, \n",
    "    reg_lambda=0.25, \n",
    "    objective='binary',\n",
    "    max_depth=-1, \n",
    "    learning_rate=0.005, \n",
    "    min_child_samples=3, \n",
    "    random_state=2021,\n",
    "    n_estimators=10000, \n",
    "    subsample=1, \n",
    "    colsample_bytree=1\n",
    ")\n",
    "result=ensemble_model(clf,features,labels,test_fea,cate_features)\n",
    "result"
   ]
  },
  {
   "cell_type": "code",
   "execution_count": null,
   "metadata": {},
   "outputs": [],
   "source": [
    "# 保存结果\n",
    "a=pd.DataFrame(test1['sid'])\n",
    "a['label']=result\n",
    "# 转换为二分类\n",
    "a['label']=a['label'].apply(lambda x:0 if x<0.5 else 1)\n",
    "a.to_csv('./data/baseline.csv',index=False)"
   ]
  },
  {
   "cell_type": "code",
   "execution_count": null,
   "metadata": {},
   "outputs": [],
   "source": []
  },
  {
   "cell_type": "code",
   "execution_count": null,
   "metadata": {},
   "outputs": [],
   "source": []
  },
  {
   "cell_type": "code",
   "execution_count": null,
   "metadata": {},
   "outputs": [],
   "source": []
  },
  {
   "cell_type": "code",
   "execution_count": null,
   "metadata": {},
   "outputs": [],
   "source": []
  }
 ],
 "metadata": {
  "kernelspec": {
   "display_name": "Python 3",
   "language": "python",
   "name": "python3"
  },
  "language_info": {
   "codemirror_mode": {
    "name": "ipython",
    "version": 3
   },
   "file_extension": ".py",
   "mimetype": "text/x-python",
   "name": "python",
   "nbconvert_exporter": "python",
   "pygments_lexer": "ipython3",
   "version": "3.8.3"
  },
  "varInspector": {
   "cols": {
    "lenName": 16,
    "lenType": 16,
    "lenVar": 40
   },
   "kernels_config": {
    "python": {
     "delete_cmd_postfix": "",
     "delete_cmd_prefix": "del ",
     "library": "var_list.py",
     "varRefreshCmd": "print(var_dic_list())"
    },
    "r": {
     "delete_cmd_postfix": ") ",
     "delete_cmd_prefix": "rm(",
     "library": "var_list.r",
     "varRefreshCmd": "cat(var_dic_list()) "
    }
   },
   "types_to_exclude": [
    "module",
    "function",
    "builtin_function_or_method",
    "instance",
    "_Feature"
   ],
   "window_display": false
  }
 },
 "nbformat": 4,
 "nbformat_minor": 1
}
