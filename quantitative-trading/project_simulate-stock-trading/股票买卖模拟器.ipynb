{
 "cells": [
  {
   "cell_type": "markdown",
   "metadata": {},
   "source": [
    "# 调包区"
   ]
  },
  {
   "cell_type": "code",
   "execution_count": 2,
   "metadata": {
    "ExecuteTime": {
     "end_time": "2021-04-17T08:30:25.558460Z",
     "start_time": "2021-04-17T08:30:24.854366Z"
    }
   },
   "outputs": [],
   "source": [
    "from tqdm.notebook import tqdm\n",
    "import random\n",
    "import pandas as pd\n",
    "import numpy as np\n",
    "import math\n",
    "from matplotlib import pyplot as plt\n",
    "import gc\n",
    "\n",
    "# 警告忽略\n",
    "import warnings\n",
    "warnings.filterwarnings(\"ignore\")\n",
    "\n",
    "# matplotlib字体设置\n",
    "plt.rcParams[\"font.family\"] = \"Songti SC\"\n",
    "plt.rcParams[\"axes.unicode_minus\"] = False\n",
    "\n",
    "# matplotlib警告忽略\n",
    "pd.plotting.register_matplotlib_converters()\n",
    "\n",
    "\n",
    "# 观看Dataframe长度\n",
    "pd.set_option('display.max_rows', 10)\n",
    "pd.set_option('display.max_columns', None)\n",
    "# 浮点数位长度\n",
    "pd.set_option('display.precision',5)\n",
    "\n",
    "# 显示多个结果\n",
    "from IPython.core.interactiveshell import InteractiveShell\n",
    "InteractiveShell.ast_node_interactivity = 'all' # ['all', 'last', 'last_expr', 'none', 'last_expr_or_assign']"
   ]
  },
  {
   "cell_type": "code",
   "execution_count": 16,
   "metadata": {
    "ExecuteTime": {
     "end_time": "2021-04-17T08:40:27.623576Z",
     "start_time": "2021-04-17T08:40:26.717035Z"
    }
   },
   "outputs": [
    {
     "name": "stdout",
     "output_type": "stream",
     "text": [
      "提示：当前环境 pandas 版本高于 0.25，get_price 与 get_fundamentals_continuously 接口 panel 参数将固定为 False\n",
      "注意：0.25 以上版本 pandas 不支持 panel，如使用该数据结构和相关函数请注意修改\n",
      "auth success \n",
      "当日可调用数据总条数为： 1000000\n",
      "当日剩余可调用条数为： 989824\n"
     ]
    }
   ],
   "source": [
    "from datetime import datetime\n",
    "import jqdatasdk as jq\n",
    "\n",
    "# 登陆\n",
    "jq.auth('18689717301', 'Zz.7895123')\n",
    "#jq.auth('13282159964', '159964')\n",
    "\n",
    "\n",
    "# 查询使用次数\n",
    "count=jq.get_query_count()\n",
    "print(\"当日可调用数据总条数为：\",count['total'])\n",
    "print(\"当日剩余可调用条数为：\",count['spare'])\n"
   ]
  },
  {
   "cell_type": "markdown",
   "metadata": {},
   "source": [
    "# 打开文档"
   ]
  },
  {
   "cell_type": "code",
   "execution_count": 11,
   "metadata": {
    "ExecuteTime": {
     "end_time": "2021-04-17T08:36:33.320891Z",
     "start_time": "2021-04-17T08:36:33.283874Z"
    }
   },
   "outputs": [
    {
     "data": {
      "text/html": [
       "<div>\n",
       "<style scoped>\n",
       "    .dataframe tbody tr th:only-of-type {\n",
       "        vertical-align: middle;\n",
       "    }\n",
       "\n",
       "    .dataframe tbody tr th {\n",
       "        vertical-align: top;\n",
       "    }\n",
       "\n",
       "    .dataframe thead th {\n",
       "        text-align: right;\n",
       "    }\n",
       "</style>\n",
       "<table border=\"1\" class=\"dataframe\">\n",
       "  <thead>\n",
       "    <tr style=\"text-align: right;\">\n",
       "      <th></th>\n",
       "      <th>id</th>\n",
       "      <th>code</th>\n",
       "      <th>pe_ratio</th>\n",
       "      <th>turnover_ratio</th>\n",
       "      <th>pb_ratio</th>\n",
       "      <th>ps_ratio</th>\n",
       "      <th>pcf_ratio</th>\n",
       "      <th>capitalization</th>\n",
       "      <th>market_cap</th>\n",
       "      <th>circulating_cap</th>\n",
       "      <th>circulating_market_cap</th>\n",
       "      <th>day</th>\n",
       "      <th>pe_ratio_lyr</th>\n",
       "    </tr>\n",
       "  </thead>\n",
       "  <tbody>\n",
       "    <tr>\n",
       "      <th>0</th>\n",
       "      <td>62085031</td>\n",
       "      <td>000001.XSHE</td>\n",
       "      <td>13.9148</td>\n",
       "      <td>NaN</td>\n",
       "      <td>1.2994</td>\n",
       "      <td>2.4763</td>\n",
       "      <td>2.7943</td>\n",
       "      <td>1.94059e+06</td>\n",
       "      <td>3753.1045</td>\n",
       "      <td>1.94058e+06</td>\n",
       "      <td>3753.0725</td>\n",
       "      <td>2021-01-01</td>\n",
       "      <td>13.3112</td>\n",
       "    </tr>\n",
       "    <tr>\n",
       "      <th>1</th>\n",
       "      <td>62083452</td>\n",
       "      <td>000002.XSHE</td>\n",
       "      <td>8.2340</td>\n",
       "      <td>NaN</td>\n",
       "      <td>1.6451</td>\n",
       "      <td>0.8650</td>\n",
       "      <td>4.6903</td>\n",
       "      <td>1.16177e+06</td>\n",
       "      <td>3334.2891</td>\n",
       "      <td>9.71432e+05</td>\n",
       "      <td>2788.0083</td>\n",
       "      <td>2021-01-01</td>\n",
       "      <td>8.5776</td>\n",
       "    </tr>\n",
       "    <tr>\n",
       "      <th>2</th>\n",
       "      <td>62083558</td>\n",
       "      <td>000004.XSHE</td>\n",
       "      <td>48.4751</td>\n",
       "      <td>NaN</td>\n",
       "      <td>2.3569</td>\n",
       "      <td>23.2341</td>\n",
       "      <td>31.4974</td>\n",
       "      <td>1.65053e+04</td>\n",
       "      <td>34.1659</td>\n",
       "      <td>8.39187e+03</td>\n",
       "      <td>17.3712</td>\n",
       "      <td>2021-01-01</td>\n",
       "      <td>1102.3503</td>\n",
       "    </tr>\n",
       "    <tr>\n",
       "      <th>3</th>\n",
       "      <td>62083192</td>\n",
       "      <td>000005.XSHE</td>\n",
       "      <td>26.1115</td>\n",
       "      <td>NaN</td>\n",
       "      <td>1.6504</td>\n",
       "      <td>13.3094</td>\n",
       "      <td>-9379.1064</td>\n",
       "      <td>1.05854e+05</td>\n",
       "      <td>26.7810</td>\n",
       "      <td>1.05795e+05</td>\n",
       "      <td>26.7660</td>\n",
       "      <td>2021-01-01</td>\n",
       "      <td>15.3307</td>\n",
       "    </tr>\n",
       "    <tr>\n",
       "      <th>4</th>\n",
       "      <td>62084251</td>\n",
       "      <td>000006.XSHE</td>\n",
       "      <td>8.8088</td>\n",
       "      <td>NaN</td>\n",
       "      <td>1.0805</td>\n",
       "      <td>2.2464</td>\n",
       "      <td>-5.7974</td>\n",
       "      <td>1.35000e+05</td>\n",
       "      <td>75.7347</td>\n",
       "      <td>1.34831e+05</td>\n",
       "      <td>75.6401</td>\n",
       "      <td>2021-01-01</td>\n",
       "      <td>9.4531</td>\n",
       "    </tr>\n",
       "    <tr>\n",
       "      <th>...</th>\n",
       "      <td>...</td>\n",
       "      <td>...</td>\n",
       "      <td>...</td>\n",
       "      <td>...</td>\n",
       "      <td>...</td>\n",
       "      <td>...</td>\n",
       "      <td>...</td>\n",
       "      <td>...</td>\n",
       "      <td>...</td>\n",
       "      <td>...</td>\n",
       "      <td>...</td>\n",
       "      <td>...</td>\n",
       "      <td>...</td>\n",
       "    </tr>\n",
       "    <tr>\n",
       "      <th>4135</th>\n",
       "      <td>62083432</td>\n",
       "      <td>688699.XSHG</td>\n",
       "      <td>50.1476</td>\n",
       "      <td>NaN</td>\n",
       "      <td>3.9611</td>\n",
       "      <td>9.0038</td>\n",
       "      <td>-94.0660</td>\n",
       "      <td>7.43680e+03</td>\n",
       "      <td>41.0288</td>\n",
       "      <td>1.69143e+03</td>\n",
       "      <td>9.3316</td>\n",
       "      <td>2021-01-01</td>\n",
       "      <td>50.8257</td>\n",
       "    </tr>\n",
       "    <tr>\n",
       "      <th>4136</th>\n",
       "      <td>62086029</td>\n",
       "      <td>688777.XSHG</td>\n",
       "      <td>126.4118</td>\n",
       "      <td>NaN</td>\n",
       "      <td>13.1172</td>\n",
       "      <td>16.8728</td>\n",
       "      <td>1085.4418</td>\n",
       "      <td>4.91290e+04</td>\n",
       "      <td>492.2726</td>\n",
       "      <td>3.90329e+03</td>\n",
       "      <td>39.1109</td>\n",
       "      <td>2021-01-01</td>\n",
       "      <td>134.6860</td>\n",
       "    </tr>\n",
       "    <tr>\n",
       "      <th>4137</th>\n",
       "      <td>62083247</td>\n",
       "      <td>688788.XSHG</td>\n",
       "      <td>41.4656</td>\n",
       "      <td>NaN</td>\n",
       "      <td>3.7112</td>\n",
       "      <td>12.6815</td>\n",
       "      <td>-480.1616</td>\n",
       "      <td>7.55342e+03</td>\n",
       "      <td>100.6871</td>\n",
       "      <td>1.66314e+03</td>\n",
       "      <td>22.1696</td>\n",
       "      <td>2021-01-01</td>\n",
       "      <td>46.1936</td>\n",
       "    </tr>\n",
       "    <tr>\n",
       "      <th>4138</th>\n",
       "      <td>62086366</td>\n",
       "      <td>688981.XSHG</td>\n",
       "      <td>119.3556</td>\n",
       "      <td>NaN</td>\n",
       "      <td>4.4766</td>\n",
       "      <td>16.5714</td>\n",
       "      <td>8.8277</td>\n",
       "      <td>7.70351e+05</td>\n",
       "      <td>4448.7749</td>\n",
       "      <td>1.04023e+05</td>\n",
       "      <td>600.7335</td>\n",
       "      <td>2021-01-01</td>\n",
       "      <td>248.0134</td>\n",
       "    </tr>\n",
       "    <tr>\n",
       "      <th>4139</th>\n",
       "      <td>62083288</td>\n",
       "      <td>689009.XSHG</td>\n",
       "      <td>-725.2831</td>\n",
       "      <td>NaN</td>\n",
       "      <td>16.3252</td>\n",
       "      <td>11.7499</td>\n",
       "      <td>-345.9907</td>\n",
       "      <td>7.04092e+04</td>\n",
       "      <td>604.2515</td>\n",
       "      <td>5.76641e+03</td>\n",
       "      <td>44.8050</td>\n",
       "      <td>2021-01-01</td>\n",
       "      <td>-132.8466</td>\n",
       "    </tr>\n",
       "  </tbody>\n",
       "</table>\n",
       "<p>4140 rows × 13 columns</p>\n",
       "</div>"
      ],
      "text/plain": [
       "            id         code  pe_ratio  turnover_ratio  pb_ratio  ps_ratio  \\\n",
       "0     62085031  000001.XSHE   13.9148             NaN    1.2994    2.4763   \n",
       "1     62083452  000002.XSHE    8.2340             NaN    1.6451    0.8650   \n",
       "2     62083558  000004.XSHE   48.4751             NaN    2.3569   23.2341   \n",
       "3     62083192  000005.XSHE   26.1115             NaN    1.6504   13.3094   \n",
       "4     62084251  000006.XSHE    8.8088             NaN    1.0805    2.2464   \n",
       "...        ...          ...       ...             ...       ...       ...   \n",
       "4135  62083432  688699.XSHG   50.1476             NaN    3.9611    9.0038   \n",
       "4136  62086029  688777.XSHG  126.4118             NaN   13.1172   16.8728   \n",
       "4137  62083247  688788.XSHG   41.4656             NaN    3.7112   12.6815   \n",
       "4138  62086366  688981.XSHG  119.3556             NaN    4.4766   16.5714   \n",
       "4139  62083288  689009.XSHG -725.2831             NaN   16.3252   11.7499   \n",
       "\n",
       "      pcf_ratio  capitalization  market_cap  circulating_cap  \\\n",
       "0        2.7943     1.94059e+06   3753.1045      1.94058e+06   \n",
       "1        4.6903     1.16177e+06   3334.2891      9.71432e+05   \n",
       "2       31.4974     1.65053e+04     34.1659      8.39187e+03   \n",
       "3    -9379.1064     1.05854e+05     26.7810      1.05795e+05   \n",
       "4       -5.7974     1.35000e+05     75.7347      1.34831e+05   \n",
       "...         ...             ...         ...              ...   \n",
       "4135   -94.0660     7.43680e+03     41.0288      1.69143e+03   \n",
       "4136  1085.4418     4.91290e+04    492.2726      3.90329e+03   \n",
       "4137  -480.1616     7.55342e+03    100.6871      1.66314e+03   \n",
       "4138     8.8277     7.70351e+05   4448.7749      1.04023e+05   \n",
       "4139  -345.9907     7.04092e+04    604.2515      5.76641e+03   \n",
       "\n",
       "      circulating_market_cap         day  pe_ratio_lyr  \n",
       "0                  3753.0725  2021-01-01       13.3112  \n",
       "1                  2788.0083  2021-01-01        8.5776  \n",
       "2                    17.3712  2021-01-01     1102.3503  \n",
       "3                    26.7660  2021-01-01       15.3307  \n",
       "4                    75.6401  2021-01-01        9.4531  \n",
       "...                      ...         ...           ...  \n",
       "4135                  9.3316  2021-01-01       50.8257  \n",
       "4136                 39.1109  2021-01-01      134.6860  \n",
       "4137                 22.1696  2021-01-01       46.1936  \n",
       "4138                600.7335  2021-01-01      248.0134  \n",
       "4139                 44.8050  2021-01-01     -132.8466  \n",
       "\n",
       "[4140 rows x 13 columns]"
      ]
     },
     "execution_count": 11,
     "metadata": {},
     "output_type": "execute_result"
    }
   ],
   "source": [
    "path = './temdata'\n",
    "df = pd.read_csv(f'{path}/stock.csv',index_col=0)\n",
    "df"
   ]
  },
  {
   "cell_type": "code",
   "execution_count": 109,
   "metadata": {
    "ExecuteTime": {
     "end_time": "2021-04-17T09:20:05.683089Z",
     "start_time": "2021-04-17T09:20:05.678290Z"
    }
   },
   "outputs": [],
   "source": [
    "# 定义初始状态\n",
    "import collections\n",
    "port = collections.defaultdict(lambda : 0)\n",
    "\n",
    "# 定义初始资金\n",
    "port['cash'] = 100000"
   ]
  },
  {
   "cell_type": "markdown",
   "metadata": {},
   "source": [
    "# 购买股票"
   ]
  },
  {
   "cell_type": "code",
   "execution_count": 123,
   "metadata": {
    "ExecuteTime": {
     "end_time": "2021-04-17T09:33:05.463891Z",
     "start_time": "2021-04-17T09:33:04.867045Z"
    }
   },
   "outputs": [
    {
     "name": "stdout",
     "output_type": "stream",
     "text": [
      "你的钱不购买股票，本次操作跳过\n"
     ]
    },
    {
     "data": {
      "text/plain": [
       "defaultdict(<function __main__.<lambda>()>,\n",
       "            {'cash': 90634.0,\n",
       "             '000001.XSHE': 0,\n",
       "             '000002.XSHE': 100,\n",
       "             '000004.XSHE': 500})"
      ]
     },
     "execution_count": 123,
     "metadata": {},
     "output_type": "execute_result"
    }
   ],
   "source": [
    "# 买入股票\n",
    "def buy_stock(port,code_name,buy_count,buy_data,info=True):\n",
    "    # 定位股票\n",
    "    df = jq.get_price(code_name, start_date=buy_data, end_date=buy_data)\n",
    "\n",
    "    # 得到价格\n",
    "    price = df['open']\n",
    "\n",
    "    if price.empty:\n",
    "        print('股票不存在or不再交易日内')\n",
    "        return port\n",
    "\n",
    "    # 制定买入金额\n",
    "    price  = price[0]*buy_count\n",
    "    \n",
    "    if port['cash'] < price:\n",
    "        print('你的钱不购买股票，本次操作跳过')\n",
    "        return port\n",
    "        \n",
    "\n",
    "    # 更新数据\n",
    "    port[code_name]+=buy_count # 更新购买的数量\n",
    "    \n",
    "    port['cash']-=price # 更新现金\n",
    "    \n",
    "    if info==True:\n",
    "        cash = port['cash']\n",
    "        print(f'日期:{buy_data},买入:{code_name},数量:{buy_count},金额:{price},剩余现金:{cash}')\n",
    "    return port\n",
    "    \n",
    "    \n",
    "buy_data = \"2021-01-04\"\n",
    "buy_count = 10000\n",
    "code_name = '000001.XSHE'\n",
    "port = port\n",
    "\n",
    "port = buy_stock(port,code_name,buy_count,buy_data)\n",
    "port"
   ]
  },
  {
   "cell_type": "code",
   "execution_count": 116,
   "metadata": {
    "ExecuteTime": {
     "end_time": "2021-04-17T09:29:58.435794Z",
     "start_time": "2021-04-17T09:29:58.225419Z"
    }
   },
   "outputs": [
    {
     "name": "stdout",
     "output_type": "stream",
     "text": [
      "日期:2021-01-04,买入:000001.XSHE,数量:500,金额:9550.0,剩余现金:66781.0\n",
      "日期:2021-01-05,买入:000002.XSHE,数量:600,金额:16668.0,剩余现金:50113.0\n",
      "日期:2021-01-06,买入:000004.XSHE,数量:700,金额:14511.0,剩余现金:35602.0\n"
     ]
    },
    {
     "data": {
      "text/plain": [
       "defaultdict(<function __main__.<lambda>()>,\n",
       "            {'cash': 35602.0,\n",
       "             '000001.XSHE': 1000,\n",
       "             '000002.XSHE': 700,\n",
       "             '000004.XSHE': 1400})"
      ]
     },
     "execution_count": 116,
     "metadata": {},
     "output_type": "execute_result"
    }
   ],
   "source": []
  },
  {
   "cell_type": "markdown",
   "metadata": {},
   "source": [
    "# 卖出股票"
   ]
  },
  {
   "cell_type": "code",
   "execution_count": 114,
   "metadata": {
    "ExecuteTime": {
     "end_time": "2021-04-17T09:21:50.828425Z",
     "start_time": "2021-04-17T09:21:50.734906Z"
    }
   },
   "outputs": [
    {
     "name": "stdout",
     "output_type": "stream",
     "text": [
      "日期:2021-01-06,卖出:000002.XSHE,数量:700,金额:15535.0,剩余现金:85881.0\n"
     ]
    },
    {
     "data": {
      "text/plain": [
       "defaultdict(<function __main__.<lambda>()>,\n",
       "            {'cash': 85881.0,\n",
       "             '000001.XSHE': 0,\n",
       "             '000002.XSHE': 100,\n",
       "             '000004.XSHE': 700})"
      ]
     },
     "execution_count": 114,
     "metadata": {},
     "output_type": "execute_result"
    }
   ],
   "source": [
    "# 卖出股票\n",
    "def sell_stock(port,code_name,sell_count,sell_data,info=True):\n",
    "    # 定位股票\n",
    "    df = jq.get_price(code_name, start_date=sell_data, end_date=sell_data)\n",
    "\n",
    "    # 得到价格\n",
    "    price = df['open']\n",
    "\n",
    "    if price.empty:\n",
    "        print('股票不存在or不再交易日内')\n",
    "        return port\n",
    "\n",
    "    # 检查持仓数量(如果持仓数少于卖出数，则变为全部卖出)\n",
    "    if port[code_name]<sell_count:\n",
    "        sell_count = port[code_name]\n",
    "\n",
    "    # 计算卖出的金额\n",
    "    price  = price[0] * sell_count\n",
    "\n",
    "    # 更新数据\n",
    "    port[code_name]-=sell_count # 更新购买的数量\n",
    "    port['cash']+=price # 更新现金\n",
    "    \n",
    "    if info==True:\n",
    "        cash = port['cash']\n",
    "        print(f'日期:{buy_data},卖出:{code_name},数量:{buy_count},金额:{price},剩余现金:{cash}')\n",
    "    \n",
    "    return port\n",
    "\n",
    "sell_data = \"2021-01-20\"\n",
    "sell_count = 500\n",
    "code_name = '000002.XSHE'\n",
    "port = port\n",
    "\n",
    "port = sell_stock(port,code_name,sell_count,sell_data,info=True)\n",
    "port"
   ]
  },
  {
   "cell_type": "code",
   "execution_count": 122,
   "metadata": {
    "ExecuteTime": {
     "end_time": "2021-04-17T09:31:26.336558Z",
     "start_time": "2021-04-17T09:31:26.118289Z"
    }
   },
   "outputs": [
    {
     "name": "stdout",
     "output_type": "stream",
     "text": [
      "日期:2021-01-15,卖出:000001.XSHE,数量:1000,金额:14700.0,剩余现金:76297.0\n",
      "日期:2021-01-14,卖出:000002.XSHE,数量:300,金额:8979.0,剩余现金:85276.0\n",
      "日期:2021-01-15,卖出:000004.XSHE,数量:300,金额:5358.0,剩余现金:90634.0\n"
     ]
    },
    {
     "data": {
      "text/plain": [
       "defaultdict(<function __main__.<lambda>()>,\n",
       "            {'cash': 90634.0,\n",
       "             '000001.XSHE': 0,\n",
       "             '000002.XSHE': 100,\n",
       "             '000004.XSHE': 500})"
      ]
     },
     "execution_count": 122,
     "metadata": {},
     "output_type": "execute_result"
    }
   ],
   "source": [
    "# 批量卖出测试\n",
    "code_list = ['000001.XSHE','000002.XSHE','000004.XSHE']\n",
    "date_list = [\"2021-01-15\",\"2021-01-14\",\"2021-01-15\"]\n",
    "buy_list = [1000,300,300]\n",
    "info_list = zip(code_list,date_list,buy_list)\n",
    "\n",
    "# 批量\n",
    "for code_name,buy_data,buy_count in info_list:\n",
    "    port = sell_stock(port,code_name,buy_count,buy_data)\n",
    "    \n",
    "port\n",
    "    \n"
   ]
  },
  {
   "cell_type": "markdown",
   "metadata": {},
   "source": [
    "# 查询当前持仓价值"
   ]
  },
  {
   "cell_type": "code",
   "execution_count": 125,
   "metadata": {
    "ExecuteTime": {
     "end_time": "2021-04-17T09:34:22.527470Z",
     "start_time": "2021-04-17T09:34:21.834769Z"
    }
   },
   "outputs": [
    {
     "name": "stdout",
     "output_type": "stream",
     "text": [
      "当前持仓的价值为: 102565.0\n"
     ]
    }
   ],
   "source": [
    "def check_stock(port,today_data):\n",
    "    value = 0\n",
    "    for code,count in port.items():\n",
    "        if code == 'cash':\n",
    "            value+=count\n",
    "        else:\n",
    "            # 定位股票\n",
    "            df = jq.get_price(code, start_date=today_data, end_date=today_data)\n",
    "\n",
    "            # 得到价格\n",
    "            price = df['open']\n",
    "\n",
    "            if price.empty:\n",
    "                print('股票不存在or不再交易日内,以下价值仅包含现金')\n",
    "                #return port\n",
    "            else:\n",
    "                value_ = price[0] * count\n",
    "\n",
    "                value+=value_\n",
    "\n",
    "    print('当前持仓的价值为:',value)\n",
    "    \n",
    "today_data = \"2021-01-15\"\n",
    "port = port\n",
    "port = check_stock(port,today_data)\n",
    "\n",
    "port"
   ]
  },
  {
   "cell_type": "code",
   "execution_count": null,
   "metadata": {},
   "outputs": [],
   "source": []
  }
 ],
 "metadata": {
  "hide_input": false,
  "kernelspec": {
   "display_name": "Python 3",
   "language": "python",
   "name": "python3"
  },
  "language_info": {
   "codemirror_mode": {
    "name": "ipython",
    "version": 3
   },
   "file_extension": ".py",
   "mimetype": "text/x-python",
   "name": "python",
   "nbconvert_exporter": "python",
   "pygments_lexer": "ipython3",
   "version": "3.7.6"
  },
  "latex_envs": {
   "LaTeX_envs_menu_present": true,
   "autoclose": false,
   "autocomplete": true,
   "bibliofile": "biblio.bib",
   "cite_by": "apalike",
   "current_citInitial": 1,
   "eqLabelWithNumbers": true,
   "eqNumInitial": 1,
   "hotkeys": {
    "equation": "Ctrl-E",
    "itemize": "Ctrl-I"
   },
   "labels_anchors": false,
   "latex_user_defs": false,
   "report_style_numbering": false,
   "user_envs_cfg": false
  },
  "toc": {
   "base_numbering": 1,
   "nav_menu": {},
   "number_sections": true,
   "sideBar": true,
   "skip_h1_title": false,
   "title_cell": "Table of Contents",
   "title_sidebar": "Contents",
   "toc_cell": false,
   "toc_position": {},
   "toc_section_display": true,
   "toc_window_display": true
  }
 },
 "nbformat": 4,
 "nbformat_minor": 4
}
