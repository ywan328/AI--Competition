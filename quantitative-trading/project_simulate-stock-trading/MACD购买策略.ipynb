{
 "cells": [
  {
   "cell_type": "markdown",
   "metadata": {},
   "source": [
    "# 调包区"
   ]
  },
  {
   "cell_type": "code",
   "execution_count": 2,
   "metadata": {
    "ExecuteTime": {
     "end_time": "2021-04-30T07:42:48.707579Z",
     "start_time": "2021-04-30T07:42:47.819209Z"
    }
   },
   "outputs": [],
   "source": [
    "from tqdm.notebook import tqdm\n",
    "import random\n",
    "import pandas as pd\n",
    "import numpy as np\n",
    "import math\n",
    "from matplotlib import pyplot as plt\n",
    "import gc\n",
    "\n",
    "# 警告忽略\n",
    "import warnings\n",
    "warnings.filterwarnings(\"ignore\")\n",
    "\n",
    "# matplotlib字体设置\n",
    "plt.rcParams[\"font.family\"] = \"Songti SC\"\n",
    "plt.rcParams[\"axes.unicode_minus\"] = False\n",
    "\n",
    "# matplotlib警告忽略\n",
    "pd.plotting.register_matplotlib_converters()\n",
    "\n",
    "\n",
    "# 观看Dataframe长度\n",
    "pd.set_option('display.max_rows', 10)\n",
    "pd.set_option('display.max_columns', None)\n",
    "# 浮点数位长度\n",
    "pd.set_option('display.precision',5)\n",
    "\n",
    "# 显示多个结果\n",
    "from IPython.core.interactiveshell import InteractiveShell\n",
    "InteractiveShell.ast_node_interactivity = 'all' # ['all', 'last', 'last_expr', 'none', 'last_expr_or_assign']"
   ]
  },
  {
   "cell_type": "code",
   "execution_count": null,
   "metadata": {},
   "outputs": [],
   "source": []
  },
  {
   "cell_type": "code",
   "execution_count": null,
   "metadata": {},
   "outputs": [],
   "source": []
  },
  {
   "cell_type": "code",
   "execution_count": 4,
   "metadata": {
    "ExecuteTime": {
     "end_time": "2021-04-30T07:43:31.612271Z",
     "start_time": "2021-04-30T07:43:28.418509Z"
    }
   },
   "outputs": [
    {
     "name": "stdout",
     "output_type": "stream",
     "text": [
      "[*********************100%***********************]  6 of 6 completed\n"
     ]
    },
    {
     "data": {
      "text/html": [
       "<div>\n",
       "<style scoped>\n",
       "    .dataframe tbody tr th:only-of-type {\n",
       "        vertical-align: middle;\n",
       "    }\n",
       "\n",
       "    .dataframe tbody tr th {\n",
       "        vertical-align: top;\n",
       "    }\n",
       "\n",
       "    .dataframe thead tr th {\n",
       "        text-align: left;\n",
       "    }\n",
       "\n",
       "    .dataframe thead tr:last-of-type th {\n",
       "        text-align: right;\n",
       "    }\n",
       "</style>\n",
       "<table border=\"1\" class=\"dataframe\">\n",
       "  <thead>\n",
       "    <tr>\n",
       "      <th></th>\n",
       "      <th colspan=\"6\" halign=\"left\">Adj Close</th>\n",
       "      <th colspan=\"6\" halign=\"left\">Close</th>\n",
       "      <th colspan=\"6\" halign=\"left\">High</th>\n",
       "      <th colspan=\"6\" halign=\"left\">Low</th>\n",
       "      <th colspan=\"6\" halign=\"left\">Open</th>\n",
       "      <th colspan=\"6\" halign=\"left\">Volume</th>\n",
       "    </tr>\n",
       "    <tr>\n",
       "      <th></th>\n",
       "      <th>AAPL</th>\n",
       "      <th>AMZN</th>\n",
       "      <th>BABA</th>\n",
       "      <th>BIDU</th>\n",
       "      <th>FB</th>\n",
       "      <th>GOOGL</th>\n",
       "      <th>AAPL</th>\n",
       "      <th>AMZN</th>\n",
       "      <th>BABA</th>\n",
       "      <th>BIDU</th>\n",
       "      <th>FB</th>\n",
       "      <th>GOOGL</th>\n",
       "      <th>AAPL</th>\n",
       "      <th>AMZN</th>\n",
       "      <th>BABA</th>\n",
       "      <th>BIDU</th>\n",
       "      <th>FB</th>\n",
       "      <th>GOOGL</th>\n",
       "      <th>AAPL</th>\n",
       "      <th>AMZN</th>\n",
       "      <th>BABA</th>\n",
       "      <th>BIDU</th>\n",
       "      <th>FB</th>\n",
       "      <th>GOOGL</th>\n",
       "      <th>AAPL</th>\n",
       "      <th>AMZN</th>\n",
       "      <th>BABA</th>\n",
       "      <th>BIDU</th>\n",
       "      <th>FB</th>\n",
       "      <th>GOOGL</th>\n",
       "      <th>AAPL</th>\n",
       "      <th>AMZN</th>\n",
       "      <th>BABA</th>\n",
       "      <th>BIDU</th>\n",
       "      <th>FB</th>\n",
       "      <th>GOOGL</th>\n",
       "    </tr>\n",
       "    <tr>\n",
       "      <th>Date</th>\n",
       "      <th></th>\n",
       "      <th></th>\n",
       "      <th></th>\n",
       "      <th></th>\n",
       "      <th></th>\n",
       "      <th></th>\n",
       "      <th></th>\n",
       "      <th></th>\n",
       "      <th></th>\n",
       "      <th></th>\n",
       "      <th></th>\n",
       "      <th></th>\n",
       "      <th></th>\n",
       "      <th></th>\n",
       "      <th></th>\n",
       "      <th></th>\n",
       "      <th></th>\n",
       "      <th></th>\n",
       "      <th></th>\n",
       "      <th></th>\n",
       "      <th></th>\n",
       "      <th></th>\n",
       "      <th></th>\n",
       "      <th></th>\n",
       "      <th></th>\n",
       "      <th></th>\n",
       "      <th></th>\n",
       "      <th></th>\n",
       "      <th></th>\n",
       "      <th></th>\n",
       "      <th></th>\n",
       "      <th></th>\n",
       "      <th></th>\n",
       "      <th></th>\n",
       "      <th></th>\n",
       "      <th></th>\n",
       "    </tr>\n",
       "  </thead>\n",
       "  <tbody>\n",
       "    <tr>\n",
       "      <th>2019-12-31</th>\n",
       "      <td>72.67534</td>\n",
       "      <td>1847.83997</td>\n",
       "      <td>212.10001</td>\n",
       "      <td>126.40000</td>\n",
       "      <td>205.25000</td>\n",
       "      <td>1339.39001</td>\n",
       "      <td>73.41250</td>\n",
       "      <td>1847.83997</td>\n",
       "      <td>212.10001</td>\n",
       "      <td>126.40000</td>\n",
       "      <td>205.25000</td>\n",
       "      <td>1339.39001</td>\n",
       "      <td>73.42000</td>\n",
       "      <td>1853.26001</td>\n",
       "      <td>213.64000</td>\n",
       "      <td>126.90000</td>\n",
       "      <td>205.56000</td>\n",
       "      <td>1340.66003</td>\n",
       "      <td>72.38000</td>\n",
       "      <td>1832.22998</td>\n",
       "      <td>210.73000</td>\n",
       "      <td>124.67000</td>\n",
       "      <td>203.60001</td>\n",
       "      <td>1332.13000</td>\n",
       "      <td>72.48250</td>\n",
       "      <td>1842.00000</td>\n",
       "      <td>212.00000</td>\n",
       "      <td>125.53000</td>\n",
       "      <td>204.00000</td>\n",
       "      <td>1335.79004</td>\n",
       "      <td>100805600</td>\n",
       "      <td>2506500</td>\n",
       "      <td>6773600</td>\n",
       "      <td>1863900</td>\n",
       "      <td>8953500</td>\n",
       "      <td>975700</td>\n",
       "    </tr>\n",
       "    <tr>\n",
       "      <th>2020-01-02</th>\n",
       "      <td>74.33351</td>\n",
       "      <td>1898.01001</td>\n",
       "      <td>219.77000</td>\n",
       "      <td>138.22000</td>\n",
       "      <td>209.78000</td>\n",
       "      <td>1368.68005</td>\n",
       "      <td>75.08750</td>\n",
       "      <td>1898.01001</td>\n",
       "      <td>219.77000</td>\n",
       "      <td>138.22000</td>\n",
       "      <td>209.78000</td>\n",
       "      <td>1368.68005</td>\n",
       "      <td>75.15000</td>\n",
       "      <td>1898.01001</td>\n",
       "      <td>219.98000</td>\n",
       "      <td>138.64000</td>\n",
       "      <td>209.78999</td>\n",
       "      <td>1368.68005</td>\n",
       "      <td>73.79750</td>\n",
       "      <td>1864.15002</td>\n",
       "      <td>216.53999</td>\n",
       "      <td>129.44000</td>\n",
       "      <td>206.27000</td>\n",
       "      <td>1346.48999</td>\n",
       "      <td>74.06000</td>\n",
       "      <td>1875.00000</td>\n",
       "      <td>216.60001</td>\n",
       "      <td>129.49001</td>\n",
       "      <td>206.75000</td>\n",
       "      <td>1348.41003</td>\n",
       "      <td>135480400</td>\n",
       "      <td>4029000</td>\n",
       "      <td>15873500</td>\n",
       "      <td>8001400</td>\n",
       "      <td>12077100</td>\n",
       "      <td>1363900</td>\n",
       "    </tr>\n",
       "    <tr>\n",
       "      <th>2020-01-03</th>\n",
       "      <td>73.61084</td>\n",
       "      <td>1874.96997</td>\n",
       "      <td>217.00000</td>\n",
       "      <td>133.80000</td>\n",
       "      <td>208.67000</td>\n",
       "      <td>1361.52002</td>\n",
       "      <td>74.35750</td>\n",
       "      <td>1874.96997</td>\n",
       "      <td>217.00000</td>\n",
       "      <td>133.80000</td>\n",
       "      <td>208.67000</td>\n",
       "      <td>1361.52002</td>\n",
       "      <td>75.14500</td>\n",
       "      <td>1886.19995</td>\n",
       "      <td>218.20300</td>\n",
       "      <td>137.16000</td>\n",
       "      <td>210.39999</td>\n",
       "      <td>1373.75000</td>\n",
       "      <td>74.12500</td>\n",
       "      <td>1864.50000</td>\n",
       "      <td>216.00999</td>\n",
       "      <td>133.78000</td>\n",
       "      <td>206.95000</td>\n",
       "      <td>1347.31995</td>\n",
       "      <td>74.28750</td>\n",
       "      <td>1864.50000</td>\n",
       "      <td>216.35001</td>\n",
       "      <td>134.58000</td>\n",
       "      <td>207.21001</td>\n",
       "      <td>1348.00000</td>\n",
       "      <td>146322800</td>\n",
       "      <td>3764400</td>\n",
       "      <td>8604500</td>\n",
       "      <td>5184800</td>\n",
       "      <td>11188400</td>\n",
       "      <td>1170400</td>\n",
       "    </tr>\n",
       "    <tr>\n",
       "      <th>2020-01-06</th>\n",
       "      <td>74.19740</td>\n",
       "      <td>1902.88000</td>\n",
       "      <td>216.64000</td>\n",
       "      <td>135.94000</td>\n",
       "      <td>212.60001</td>\n",
       "      <td>1397.81006</td>\n",
       "      <td>74.95000</td>\n",
       "      <td>1902.88000</td>\n",
       "      <td>216.64000</td>\n",
       "      <td>135.94000</td>\n",
       "      <td>212.60001</td>\n",
       "      <td>1397.81006</td>\n",
       "      <td>74.99000</td>\n",
       "      <td>1903.68994</td>\n",
       "      <td>217.16000</td>\n",
       "      <td>136.74001</td>\n",
       "      <td>212.78000</td>\n",
       "      <td>1398.31995</td>\n",
       "      <td>73.18750</td>\n",
       "      <td>1860.00000</td>\n",
       "      <td>214.09000</td>\n",
       "      <td>132.50999</td>\n",
       "      <td>206.52000</td>\n",
       "      <td>1351.00000</td>\n",
       "      <td>73.44750</td>\n",
       "      <td>1860.00000</td>\n",
       "      <td>214.89000</td>\n",
       "      <td>132.78000</td>\n",
       "      <td>206.70000</td>\n",
       "      <td>1351.63000</td>\n",
       "      <td>118387200</td>\n",
       "      <td>4061800</td>\n",
       "      <td>11885500</td>\n",
       "      <td>3930700</td>\n",
       "      <td>17058900</td>\n",
       "      <td>2338400</td>\n",
       "    </tr>\n",
       "    <tr>\n",
       "      <th>2020-01-07</th>\n",
       "      <td>73.84844</td>\n",
       "      <td>1906.85999</td>\n",
       "      <td>217.63000</td>\n",
       "      <td>136.70000</td>\n",
       "      <td>213.06000</td>\n",
       "      <td>1395.10999</td>\n",
       "      <td>74.59750</td>\n",
       "      <td>1906.85999</td>\n",
       "      <td>217.63000</td>\n",
       "      <td>136.70000</td>\n",
       "      <td>213.06000</td>\n",
       "      <td>1395.10999</td>\n",
       "      <td>75.22500</td>\n",
       "      <td>1913.89001</td>\n",
       "      <td>218.94000</td>\n",
       "      <td>139.47000</td>\n",
       "      <td>214.58000</td>\n",
       "      <td>1403.50000</td>\n",
       "      <td>74.37000</td>\n",
       "      <td>1892.04004</td>\n",
       "      <td>216.69000</td>\n",
       "      <td>135.39999</td>\n",
       "      <td>211.75000</td>\n",
       "      <td>1391.56006</td>\n",
       "      <td>74.96000</td>\n",
       "      <td>1904.50000</td>\n",
       "      <td>217.64000</td>\n",
       "      <td>138.19000</td>\n",
       "      <td>212.82001</td>\n",
       "      <td>1400.45996</td>\n",
       "      <td>108872000</td>\n",
       "      <td>4044900</td>\n",
       "      <td>9388000</td>\n",
       "      <td>4535800</td>\n",
       "      <td>14912400</td>\n",
       "      <td>1716500</td>\n",
       "    </tr>\n",
       "    <tr>\n",
       "      <th>...</th>\n",
       "      <td>...</td>\n",
       "      <td>...</td>\n",
       "      <td>...</td>\n",
       "      <td>...</td>\n",
       "      <td>...</td>\n",
       "      <td>...</td>\n",
       "      <td>...</td>\n",
       "      <td>...</td>\n",
       "      <td>...</td>\n",
       "      <td>...</td>\n",
       "      <td>...</td>\n",
       "      <td>...</td>\n",
       "      <td>...</td>\n",
       "      <td>...</td>\n",
       "      <td>...</td>\n",
       "      <td>...</td>\n",
       "      <td>...</td>\n",
       "      <td>...</td>\n",
       "      <td>...</td>\n",
       "      <td>...</td>\n",
       "      <td>...</td>\n",
       "      <td>...</td>\n",
       "      <td>...</td>\n",
       "      <td>...</td>\n",
       "      <td>...</td>\n",
       "      <td>...</td>\n",
       "      <td>...</td>\n",
       "      <td>...</td>\n",
       "      <td>...</td>\n",
       "      <td>...</td>\n",
       "      <td>...</td>\n",
       "      <td>...</td>\n",
       "      <td>...</td>\n",
       "      <td>...</td>\n",
       "      <td>...</td>\n",
       "      <td>...</td>\n",
       "    </tr>\n",
       "    <tr>\n",
       "      <th>2020-12-23</th>\n",
       "      <td>130.76460</td>\n",
       "      <td>3185.27002</td>\n",
       "      <td>256.17999</td>\n",
       "      <td>193.36000</td>\n",
       "      <td>268.10999</td>\n",
       "      <td>1728.22998</td>\n",
       "      <td>130.96001</td>\n",
       "      <td>3185.27002</td>\n",
       "      <td>256.17999</td>\n",
       "      <td>193.36000</td>\n",
       "      <td>268.10999</td>\n",
       "      <td>1728.22998</td>\n",
       "      <td>132.42999</td>\n",
       "      <td>3210.12988</td>\n",
       "      <td>257.35001</td>\n",
       "      <td>195.49001</td>\n",
       "      <td>272.17001</td>\n",
       "      <td>1744.10999</td>\n",
       "      <td>130.78000</td>\n",
       "      <td>3184.16992</td>\n",
       "      <td>252.53000</td>\n",
       "      <td>185.16000</td>\n",
       "      <td>266.23001</td>\n",
       "      <td>1721.19995</td>\n",
       "      <td>132.16000</td>\n",
       "      <td>3205.00000</td>\n",
       "      <td>255.50000</td>\n",
       "      <td>191.35001</td>\n",
       "      <td>266.89001</td>\n",
       "      <td>1723.93005</td>\n",
       "      <td>88223700</td>\n",
       "      <td>2093800</td>\n",
       "      <td>10729200</td>\n",
       "      <td>5438400</td>\n",
       "      <td>14329000</td>\n",
       "      <td>1148700</td>\n",
       "    </tr>\n",
       "    <tr>\n",
       "      <th>2020-12-24</th>\n",
       "      <td>131.77309</td>\n",
       "      <td>3172.68994</td>\n",
       "      <td>222.00000</td>\n",
       "      <td>191.02000</td>\n",
       "      <td>267.39999</td>\n",
       "      <td>1734.16003</td>\n",
       "      <td>131.97000</td>\n",
       "      <td>3172.68994</td>\n",
       "      <td>222.00000</td>\n",
       "      <td>191.02000</td>\n",
       "      <td>267.39999</td>\n",
       "      <td>1734.16003</td>\n",
       "      <td>133.46001</td>\n",
       "      <td>3202.00000</td>\n",
       "      <td>229.89999</td>\n",
       "      <td>192.88000</td>\n",
       "      <td>270.39999</td>\n",
       "      <td>1742.41003</td>\n",
       "      <td>131.10001</td>\n",
       "      <td>3169.00000</td>\n",
       "      <td>211.23000</td>\n",
       "      <td>189.00000</td>\n",
       "      <td>266.20001</td>\n",
       "      <td>1724.34998</td>\n",
       "      <td>131.32001</td>\n",
       "      <td>3193.89990</td>\n",
       "      <td>228.23500</td>\n",
       "      <td>189.75000</td>\n",
       "      <td>268.88000</td>\n",
       "      <td>1729.00000</td>\n",
       "      <td>54930100</td>\n",
       "      <td>1451900</td>\n",
       "      <td>141830000</td>\n",
       "      <td>2978900</td>\n",
       "      <td>6702000</td>\n",
       "      <td>465600</td>\n",
       "    </tr>\n",
       "    <tr>\n",
       "      <th>2020-12-28</th>\n",
       "      <td>136.48605</td>\n",
       "      <td>3283.95996</td>\n",
       "      <td>222.36000</td>\n",
       "      <td>193.08000</td>\n",
       "      <td>277.00000</td>\n",
       "      <td>1773.95996</td>\n",
       "      <td>136.69000</td>\n",
       "      <td>3283.95996</td>\n",
       "      <td>222.36000</td>\n",
       "      <td>193.08000</td>\n",
       "      <td>277.00000</td>\n",
       "      <td>1773.95996</td>\n",
       "      <td>137.34000</td>\n",
       "      <td>3304.00000</td>\n",
       "      <td>224.99001</td>\n",
       "      <td>198.74001</td>\n",
       "      <td>277.29999</td>\n",
       "      <td>1787.00000</td>\n",
       "      <td>133.50999</td>\n",
       "      <td>3172.68994</td>\n",
       "      <td>215.32001</td>\n",
       "      <td>189.34000</td>\n",
       "      <td>265.66000</td>\n",
       "      <td>1741.81995</td>\n",
       "      <td>133.99001</td>\n",
       "      <td>3194.00000</td>\n",
       "      <td>216.88000</td>\n",
       "      <td>189.63000</td>\n",
       "      <td>268.73999</td>\n",
       "      <td>1744.91003</td>\n",
       "      <td>124486200</td>\n",
       "      <td>5686800</td>\n",
       "      <td>73512100</td>\n",
       "      <td>5685900</td>\n",
       "      <td>23299700</td>\n",
       "      <td>1382500</td>\n",
       "    </tr>\n",
       "    <tr>\n",
       "      <th>2020-12-29</th>\n",
       "      <td>134.66876</td>\n",
       "      <td>3322.00000</td>\n",
       "      <td>236.25999</td>\n",
       "      <td>195.07001</td>\n",
       "      <td>276.78000</td>\n",
       "      <td>1757.76001</td>\n",
       "      <td>134.87000</td>\n",
       "      <td>3322.00000</td>\n",
       "      <td>236.25999</td>\n",
       "      <td>195.07001</td>\n",
       "      <td>276.78000</td>\n",
       "      <td>1757.76001</td>\n",
       "      <td>138.78999</td>\n",
       "      <td>3350.64990</td>\n",
       "      <td>239.19000</td>\n",
       "      <td>199.88000</td>\n",
       "      <td>280.51001</td>\n",
       "      <td>1788.46997</td>\n",
       "      <td>134.34000</td>\n",
       "      <td>3281.21997</td>\n",
       "      <td>229.60001</td>\n",
       "      <td>192.64999</td>\n",
       "      <td>276.28000</td>\n",
       "      <td>1755.10999</td>\n",
       "      <td>138.05000</td>\n",
       "      <td>3309.93994</td>\n",
       "      <td>231.75999</td>\n",
       "      <td>195.97000</td>\n",
       "      <td>276.95001</td>\n",
       "      <td>1787.22998</td>\n",
       "      <td>121047300</td>\n",
       "      <td>4872900</td>\n",
       "      <td>69715900</td>\n",
       "      <td>5723600</td>\n",
       "      <td>16383000</td>\n",
       "      <td>986300</td>\n",
       "    </tr>\n",
       "    <tr>\n",
       "      <th>2020-12-30</th>\n",
       "      <td>133.52048</td>\n",
       "      <td>3285.85010</td>\n",
       "      <td>238.39000</td>\n",
       "      <td>219.63000</td>\n",
       "      <td>271.87000</td>\n",
       "      <td>1736.25000</td>\n",
       "      <td>133.72000</td>\n",
       "      <td>3285.85010</td>\n",
       "      <td>238.39000</td>\n",
       "      <td>219.63000</td>\n",
       "      <td>271.87000</td>\n",
       "      <td>1736.25000</td>\n",
       "      <td>135.99001</td>\n",
       "      <td>3342.10010</td>\n",
       "      <td>243.39000</td>\n",
       "      <td>220.60001</td>\n",
       "      <td>278.07999</td>\n",
       "      <td>1767.76001</td>\n",
       "      <td>133.39999</td>\n",
       "      <td>3282.46997</td>\n",
       "      <td>234.64500</td>\n",
       "      <td>198.05000</td>\n",
       "      <td>271.70999</td>\n",
       "      <td>1728.00000</td>\n",
       "      <td>135.58000</td>\n",
       "      <td>3341.00000</td>\n",
       "      <td>243.34801</td>\n",
       "      <td>198.10001</td>\n",
       "      <td>277.95001</td>\n",
       "      <td>1765.00000</td>\n",
       "      <td>96452100</td>\n",
       "      <td>3209300</td>\n",
       "      <td>44812300</td>\n",
       "      <td>25429300</td>\n",
       "      <td>11803800</td>\n",
       "      <td>1051300</td>\n",
       "    </tr>\n",
       "  </tbody>\n",
       "</table>\n",
       "<p>253 rows × 36 columns</p>\n",
       "</div>"
      ],
      "text/plain": [
       "            Adj Close                                               \\\n",
       "                 AAPL        AMZN       BABA       BIDU         FB   \n",
       "Date                                                                 \n",
       "2019-12-31   72.67534  1847.83997  212.10001  126.40000  205.25000   \n",
       "2020-01-02   74.33351  1898.01001  219.77000  138.22000  209.78000   \n",
       "2020-01-03   73.61084  1874.96997  217.00000  133.80000  208.67000   \n",
       "2020-01-06   74.19740  1902.88000  216.64000  135.94000  212.60001   \n",
       "2020-01-07   73.84844  1906.85999  217.63000  136.70000  213.06000   \n",
       "...               ...         ...        ...        ...        ...   \n",
       "2020-12-23  130.76460  3185.27002  256.17999  193.36000  268.10999   \n",
       "2020-12-24  131.77309  3172.68994  222.00000  191.02000  267.39999   \n",
       "2020-12-28  136.48605  3283.95996  222.36000  193.08000  277.00000   \n",
       "2020-12-29  134.66876  3322.00000  236.25999  195.07001  276.78000   \n",
       "2020-12-30  133.52048  3285.85010  238.39000  219.63000  271.87000   \n",
       "\n",
       "                            Close                                    \\\n",
       "                 GOOGL       AAPL        AMZN       BABA       BIDU   \n",
       "Date                                                                  \n",
       "2019-12-31  1339.39001   73.41250  1847.83997  212.10001  126.40000   \n",
       "2020-01-02  1368.68005   75.08750  1898.01001  219.77000  138.22000   \n",
       "2020-01-03  1361.52002   74.35750  1874.96997  217.00000  133.80000   \n",
       "2020-01-06  1397.81006   74.95000  1902.88000  216.64000  135.94000   \n",
       "2020-01-07  1395.10999   74.59750  1906.85999  217.63000  136.70000   \n",
       "...                ...        ...         ...        ...        ...   \n",
       "2020-12-23  1728.22998  130.96001  3185.27002  256.17999  193.36000   \n",
       "2020-12-24  1734.16003  131.97000  3172.68994  222.00000  191.02000   \n",
       "2020-12-28  1773.95996  136.69000  3283.95996  222.36000  193.08000   \n",
       "2020-12-29  1757.76001  134.87000  3322.00000  236.25999  195.07001   \n",
       "2020-12-30  1736.25000  133.72000  3285.85010  238.39000  219.63000   \n",
       "\n",
       "                                        High                         \\\n",
       "                   FB       GOOGL       AAPL        AMZN       BABA   \n",
       "Date                                                                  \n",
       "2019-12-31  205.25000  1339.39001   73.42000  1853.26001  213.64000   \n",
       "2020-01-02  209.78000  1368.68005   75.15000  1898.01001  219.98000   \n",
       "2020-01-03  208.67000  1361.52002   75.14500  1886.19995  218.20300   \n",
       "2020-01-06  212.60001  1397.81006   74.99000  1903.68994  217.16000   \n",
       "2020-01-07  213.06000  1395.10999   75.22500  1913.89001  218.94000   \n",
       "...               ...         ...        ...         ...        ...   \n",
       "2020-12-23  268.10999  1728.22998  132.42999  3210.12988  257.35001   \n",
       "2020-12-24  267.39999  1734.16003  133.46001  3202.00000  229.89999   \n",
       "2020-12-28  277.00000  1773.95996  137.34000  3304.00000  224.99001   \n",
       "2020-12-29  276.78000  1757.76001  138.78999  3350.64990  239.19000   \n",
       "2020-12-30  271.87000  1736.25000  135.99001  3342.10010  243.39000   \n",
       "\n",
       "                                                    Low              \\\n",
       "                 BIDU         FB       GOOGL       AAPL        AMZN   \n",
       "Date                                                                  \n",
       "2019-12-31  126.90000  205.56000  1340.66003   72.38000  1832.22998   \n",
       "2020-01-02  138.64000  209.78999  1368.68005   73.79750  1864.15002   \n",
       "2020-01-03  137.16000  210.39999  1373.75000   74.12500  1864.50000   \n",
       "2020-01-06  136.74001  212.78000  1398.31995   73.18750  1860.00000   \n",
       "2020-01-07  139.47000  214.58000  1403.50000   74.37000  1892.04004   \n",
       "...               ...        ...         ...        ...         ...   \n",
       "2020-12-23  195.49001  272.17001  1744.10999  130.78000  3184.16992   \n",
       "2020-12-24  192.88000  270.39999  1742.41003  131.10001  3169.00000   \n",
       "2020-12-28  198.74001  277.29999  1787.00000  133.50999  3172.68994   \n",
       "2020-12-29  199.88000  280.51001  1788.46997  134.34000  3281.21997   \n",
       "2020-12-30  220.60001  278.07999  1767.76001  133.39999  3282.46997   \n",
       "\n",
       "                                                              Open  \\\n",
       "                 BABA       BIDU         FB       GOOGL       AAPL   \n",
       "Date                                                                 \n",
       "2019-12-31  210.73000  124.67000  203.60001  1332.13000   72.48250   \n",
       "2020-01-02  216.53999  129.44000  206.27000  1346.48999   74.06000   \n",
       "2020-01-03  216.00999  133.78000  206.95000  1347.31995   74.28750   \n",
       "2020-01-06  214.09000  132.50999  206.52000  1351.00000   73.44750   \n",
       "2020-01-07  216.69000  135.39999  211.75000  1391.56006   74.96000   \n",
       "...               ...        ...        ...         ...        ...   \n",
       "2020-12-23  252.53000  185.16000  266.23001  1721.19995  132.16000   \n",
       "2020-12-24  211.23000  189.00000  266.20001  1724.34998  131.32001   \n",
       "2020-12-28  215.32001  189.34000  265.66000  1741.81995  133.99001   \n",
       "2020-12-29  229.60001  192.64999  276.28000  1755.10999  138.05000   \n",
       "2020-12-30  234.64500  198.05000  271.70999  1728.00000  135.58000   \n",
       "\n",
       "                                                                     \\\n",
       "                  AMZN       BABA       BIDU         FB       GOOGL   \n",
       "Date                                                                  \n",
       "2019-12-31  1842.00000  212.00000  125.53000  204.00000  1335.79004   \n",
       "2020-01-02  1875.00000  216.60001  129.49001  206.75000  1348.41003   \n",
       "2020-01-03  1864.50000  216.35001  134.58000  207.21001  1348.00000   \n",
       "2020-01-06  1860.00000  214.89000  132.78000  206.70000  1351.63000   \n",
       "2020-01-07  1904.50000  217.64000  138.19000  212.82001  1400.45996   \n",
       "...                ...        ...        ...        ...         ...   \n",
       "2020-12-23  3205.00000  255.50000  191.35001  266.89001  1723.93005   \n",
       "2020-12-24  3193.89990  228.23500  189.75000  268.88000  1729.00000   \n",
       "2020-12-28  3194.00000  216.88000  189.63000  268.73999  1744.91003   \n",
       "2020-12-29  3309.93994  231.75999  195.97000  276.95001  1787.22998   \n",
       "2020-12-30  3341.00000  243.34801  198.10001  277.95001  1765.00000   \n",
       "\n",
       "               Volume                                                   \n",
       "                 AAPL     AMZN       BABA      BIDU        FB    GOOGL  \n",
       "Date                                                                    \n",
       "2019-12-31  100805600  2506500    6773600   1863900   8953500   975700  \n",
       "2020-01-02  135480400  4029000   15873500   8001400  12077100  1363900  \n",
       "2020-01-03  146322800  3764400    8604500   5184800  11188400  1170400  \n",
       "2020-01-06  118387200  4061800   11885500   3930700  17058900  2338400  \n",
       "2020-01-07  108872000  4044900    9388000   4535800  14912400  1716500  \n",
       "...               ...      ...        ...       ...       ...      ...  \n",
       "2020-12-23   88223700  2093800   10729200   5438400  14329000  1148700  \n",
       "2020-12-24   54930100  1451900  141830000   2978900   6702000   465600  \n",
       "2020-12-28  124486200  5686800   73512100   5685900  23299700  1382500  \n",
       "2020-12-29  121047300  4872900   69715900   5723600  16383000   986300  \n",
       "2020-12-30   96452100  3209300   44812300  25429300  11803800  1051300  \n",
       "\n",
       "[253 rows x 36 columns]"
      ]
     },
     "execution_count": 4,
     "metadata": {},
     "output_type": "execute_result"
    }
   ],
   "source": [
    "\n",
    "# 获取股票数据\n",
    "import fix_yahoo_finance as yf\n",
    "tickers = ['AAPL', 'BABA', 'BIDU', 'GOOGL', 'FB', 'AMZN']\n",
    "data = yf.download(tickers = tickers, start = '2020-01-01', end = '2020-12-31')\n",
    "data\n"
   ]
  },
  {
   "cell_type": "code",
   "execution_count": 58,
   "metadata": {
    "ExecuteTime": {
     "end_time": "2021-04-30T09:02:27.137752Z",
     "start_time": "2021-04-30T09:02:26.340626Z"
    }
   },
   "outputs": [
    {
     "name": "stdout",
     "output_type": "stream",
     "text": [
      "[*********************100%***********************]  1 of 1 completed\n"
     ]
    },
    {
     "data": {
      "text/html": [
       "<div>\n",
       "<style scoped>\n",
       "    .dataframe tbody tr th:only-of-type {\n",
       "        vertical-align: middle;\n",
       "    }\n",
       "\n",
       "    .dataframe tbody tr th {\n",
       "        vertical-align: top;\n",
       "    }\n",
       "\n",
       "    .dataframe thead th {\n",
       "        text-align: right;\n",
       "    }\n",
       "</style>\n",
       "<table border=\"1\" class=\"dataframe\">\n",
       "  <thead>\n",
       "    <tr style=\"text-align: right;\">\n",
       "      <th></th>\n",
       "      <th>Open</th>\n",
       "      <th>High</th>\n",
       "      <th>Low</th>\n",
       "      <th>Close</th>\n",
       "      <th>Adj Close</th>\n",
       "      <th>Volume</th>\n",
       "    </tr>\n",
       "    <tr>\n",
       "      <th>Date</th>\n",
       "      <th></th>\n",
       "      <th></th>\n",
       "      <th></th>\n",
       "      <th></th>\n",
       "      <th></th>\n",
       "      <th></th>\n",
       "    </tr>\n",
       "  </thead>\n",
       "  <tbody>\n",
       "    <tr>\n",
       "      <th>2020-06-01</th>\n",
       "      <td>79.43750</td>\n",
       "      <td>80.58750</td>\n",
       "      <td>79.30250</td>\n",
       "      <td>80.46250</td>\n",
       "      <td>80.05972</td>\n",
       "      <td>80791200</td>\n",
       "    </tr>\n",
       "    <tr>\n",
       "      <th>2020-06-02</th>\n",
       "      <td>80.18750</td>\n",
       "      <td>80.86000</td>\n",
       "      <td>79.73250</td>\n",
       "      <td>80.83500</td>\n",
       "      <td>80.43035</td>\n",
       "      <td>87642800</td>\n",
       "    </tr>\n",
       "    <tr>\n",
       "      <th>2020-06-03</th>\n",
       "      <td>81.16500</td>\n",
       "      <td>81.55000</td>\n",
       "      <td>80.57500</td>\n",
       "      <td>81.28000</td>\n",
       "      <td>80.87313</td>\n",
       "      <td>104491200</td>\n",
       "    </tr>\n",
       "    <tr>\n",
       "      <th>2020-06-04</th>\n",
       "      <td>81.09750</td>\n",
       "      <td>81.40500</td>\n",
       "      <td>80.19500</td>\n",
       "      <td>80.58000</td>\n",
       "      <td>80.17664</td>\n",
       "      <td>87560400</td>\n",
       "    </tr>\n",
       "    <tr>\n",
       "      <th>2020-06-05</th>\n",
       "      <td>80.83750</td>\n",
       "      <td>82.93750</td>\n",
       "      <td>80.80750</td>\n",
       "      <td>82.87500</td>\n",
       "      <td>82.46015</td>\n",
       "      <td>137250400</td>\n",
       "    </tr>\n",
       "    <tr>\n",
       "      <th>...</th>\n",
       "      <td>...</td>\n",
       "      <td>...</td>\n",
       "      <td>...</td>\n",
       "      <td>...</td>\n",
       "      <td>...</td>\n",
       "      <td>...</td>\n",
       "    </tr>\n",
       "    <tr>\n",
       "      <th>2020-12-23</th>\n",
       "      <td>132.16000</td>\n",
       "      <td>132.42999</td>\n",
       "      <td>130.78000</td>\n",
       "      <td>130.96001</td>\n",
       "      <td>130.76460</td>\n",
       "      <td>88223700</td>\n",
       "    </tr>\n",
       "    <tr>\n",
       "      <th>2020-12-24</th>\n",
       "      <td>131.32001</td>\n",
       "      <td>133.46001</td>\n",
       "      <td>131.10001</td>\n",
       "      <td>131.97000</td>\n",
       "      <td>131.77309</td>\n",
       "      <td>54930100</td>\n",
       "    </tr>\n",
       "    <tr>\n",
       "      <th>2020-12-28</th>\n",
       "      <td>133.99001</td>\n",
       "      <td>137.34000</td>\n",
       "      <td>133.50999</td>\n",
       "      <td>136.69000</td>\n",
       "      <td>136.48605</td>\n",
       "      <td>124486200</td>\n",
       "    </tr>\n",
       "    <tr>\n",
       "      <th>2020-12-29</th>\n",
       "      <td>138.05000</td>\n",
       "      <td>138.78999</td>\n",
       "      <td>134.34000</td>\n",
       "      <td>134.87000</td>\n",
       "      <td>134.66876</td>\n",
       "      <td>121047300</td>\n",
       "    </tr>\n",
       "    <tr>\n",
       "      <th>2020-12-30</th>\n",
       "      <td>135.58000</td>\n",
       "      <td>135.99001</td>\n",
       "      <td>133.39999</td>\n",
       "      <td>133.72000</td>\n",
       "      <td>133.52048</td>\n",
       "      <td>96452100</td>\n",
       "    </tr>\n",
       "  </tbody>\n",
       "</table>\n",
       "<p>149 rows × 6 columns</p>\n",
       "</div>"
      ],
      "text/plain": [
       "                 Open       High        Low      Close  Adj Close     Volume\n",
       "Date                                                                        \n",
       "2020-06-01   79.43750   80.58750   79.30250   80.46250   80.05972   80791200\n",
       "2020-06-02   80.18750   80.86000   79.73250   80.83500   80.43035   87642800\n",
       "2020-06-03   81.16500   81.55000   80.57500   81.28000   80.87313  104491200\n",
       "2020-06-04   81.09750   81.40500   80.19500   80.58000   80.17664   87560400\n",
       "2020-06-05   80.83750   82.93750   80.80750   82.87500   82.46015  137250400\n",
       "...               ...        ...        ...        ...        ...        ...\n",
       "2020-12-23  132.16000  132.42999  130.78000  130.96001  130.76460   88223700\n",
       "2020-12-24  131.32001  133.46001  131.10001  131.97000  131.77309   54930100\n",
       "2020-12-28  133.99001  137.34000  133.50999  136.69000  136.48605  124486200\n",
       "2020-12-29  138.05000  138.78999  134.34000  134.87000  134.66876  121047300\n",
       "2020-12-30  135.58000  135.99001  133.39999  133.72000  133.52048   96452100\n",
       "\n",
       "[149 rows x 6 columns]"
      ]
     },
     "execution_count": 58,
     "metadata": {},
     "output_type": "execute_result"
    }
   ],
   "source": [
    "## 获得某只股票的情况\n",
    "df = yf.download(tickers = 'AAPL', start = '2020-06-01', end = '2020-12-31')\n",
    "df"
   ]
  },
  {
   "cell_type": "markdown",
   "metadata": {},
   "source": [
    "# 计算指标"
   ]
  },
  {
   "cell_type": "code",
   "execution_count": 59,
   "metadata": {
    "ExecuteTime": {
     "end_time": "2021-04-30T09:02:27.890465Z",
     "start_time": "2021-04-30T09:02:27.874394Z"
    }
   },
   "outputs": [],
   "source": [
    "# rolling函数的用法相当于滑动窗口，将前N个数据当作一个series，然后做统计操作\n",
    "# 参数：window是滑动的窗口数，min_periods是最小必须满足的窗口数（如果为1，即使窗口数为4，实际数量为2，也不会输出nan，而是取2的统计值）\n",
    "\n",
    "ma1 = 5\n",
    "ma2 = 10\n",
    "dea = 9\n",
    "\n",
    "# 计算指标 (以下仅仅是常用指标，并不代表最终一定能用到)\n",
    "df['ma1'] = df['Close'].rolling(window=ma1,min_periods=1).mean() # MA1是短期的平均平滑指标\n",
    "                                                                 # 通过均值代表整体情况，减少波动\n",
    "df['ma2'] = df['Close'].rolling(window=ma2,min_periods=1).mean() # MA2是长期期的平均平滑指标\n",
    "                                                                 # 通过均值代表整体情况，减少波动\n",
    "df['diff'] = df['ma1'] - df['ma2'] # 其实就是MACD，MACD就是所有diff的情况\n",
    "                                   # 这里的平滑相当于差分的概念吗？用现在与未来相减，只留下趋势项\n",
    "                                   # 假设该时间序列数据仅有趋势规律的话，差分后的数值就是趋于平稳的\n",
    "        \n",
    "df['dea'] = df['diff'].rolling(window=dea,min_periods=1).mean() # 通过均值取一段时间的平均情况，平滑整体数据\n",
    "\n",
    "\n"
   ]
  },
  {
   "cell_type": "raw",
   "metadata": {},
   "source": [
    "通常情况下MA2代表长期趋势，MA1代表短期趋势\n",
    "通过它们衍生出来的DIF线与DEA线也具备一定的实际意义，DIF为快线，DEA为慢线。所谓快慢的意思是两条线通常是同增同减，但是DIF的趋势块于DEA\n",
    "因此：\n",
    "当快线DIF为增长 且 与DEA交叉时，我们认为是买入信号。因为我们认为DEA会继续前面的趋势继续增长\n",
    "当快线DIF为下降 且 与 DEA交叉时，我们认为是卖出信号，因为我们认为DEA会继续沿着DIF的趋势继续下降\n",
    "\n",
    "同理：\n",
    "当短均线大于长均线时，我们看多并持有\n",
    "当短均线小于长均线时，我们清仓\n",
    "背后的逻辑是短均线有动量的影响（惯性）\n",
    "我们可以用 diff = 长均线-短均线\n",
    "diff有时正，有时负\n",
    "这就是为什么称为 Moving Average Convergence Divergence\n"
   ]
  },
  {
   "cell_type": "markdown",
   "metadata": {},
   "source": [
    "# 计算买卖信号"
   ]
  },
  {
   "cell_type": "code",
   "execution_count": 60,
   "metadata": {
    "ExecuteTime": {
     "end_time": "2021-04-30T09:02:29.381565Z",
     "start_time": "2021-04-30T09:02:29.203827Z"
    }
   },
   "outputs": [
    {
     "data": {
      "text/plain": [
       "<matplotlib.axes._subplots.AxesSubplot at 0x7f99c5cbc5d0>"
      ]
     },
     "execution_count": 60,
     "metadata": {},
     "output_type": "execute_result"
    },
    {
     "data": {
      "image/png": "[encoded data removed]",
      "text/plain": [
       "<Figure size 432x288 with 1 Axes>"
      ]
     },
     "metadata": {
      "needs_background": "light"
     },
     "output_type": "display_data"
    }
   ],
   "source": [
    "columns = ['diff','dea']\n",
    "tem_df = df[columns]\n",
    "tem_df.plot()"
   ]
  },
  {
   "cell_type": "raw",
   "metadata": {},
   "source": [
    "通过观察发现，如果处于上升阶段，DIF与DEA都是同增长的，同时DIFF衡大于DEA\n",
    "当刚开始处于下降的阶段的时候，DIF开始下降，但是DEA仍在上升，此时DIFF依然大于DEA\n",
    "当进入交叉点的时候，DIF依然下降，DEA开始进入拐点准备下降，此时DIFF 等于 DEA\n",
    "当开始处于下降阶段的时候，DIF继续下降，DEA也开始下降，此时因为DEA下降的时间比DIFF晚，所以DEA 大于 DIFF\n",
    "\n",
    "因此得到结论，当DIFF > DEA 时，就是上升阶段，或者下降初期\n",
    "当DIFF=DEA时，就是拐点\n",
    "当DIFF<DEA时，就是下降阶段，或者上升初期\n",
    "\n",
    "所以，我们可以利用DIFF=DEA直接找到拐点，但是我们无法得知是拐点向上还是拐点向下。因此，我们可以利用规则DIFF>=DEA，找到上升阶段与拐点，为1的部分我们认为是上升阶段，拐点为1的头尾，0认识是下降阶段。然后通过差分就可以得到拐点值，上升的拐点为1，下降的拐点为-1"
   ]
  },
  {
   "cell_type": "code",
   "execution_count": 66,
   "metadata": {
    "ExecuteTime": {
     "end_time": "2021-04-30T09:03:14.838517Z",
     "start_time": "2021-04-30T09:03:14.824493Z"
    }
   },
   "outputs": [
    {
     "data": {
      "text/plain": [
       "array([1, 1, 1, 1, 1, 1, 1, 1, 1, 1, 1, 1, 0, 0, 0, 0, 0, 1, 1, 1, 0, 0,\n",
       "       0, 0, 0, 0, 1, 1, 1, 1, 1, 1, 0, 0, 0, 0, 0, 0, 0, 0, 0, 0, 0, 1,\n",
       "       1, 1, 1, 1, 1, 1, 0, 0, 0, 0, 0, 0, 0, 0, 1, 1, 1, 1, 1, 1, 0, 0,\n",
       "       0, 0, 0, 0, 0, 0, 0, 0, 0, 0, 1, 1, 1, 1, 1, 1, 1, 1, 1, 1, 1, 1,\n",
       "       1, 1, 0, 0, 0, 0, 1, 1, 1, 1, 0, 0, 0, 0, 0, 0, 0, 0, 0, 0, 0, 0,\n",
       "       1, 1, 1, 1, 1, 1, 1, 1, 1, 0, 0, 0, 0, 0, 0, 0, 0, 0, 1, 1, 1, 1,\n",
       "       1, 1, 1, 0, 0, 0, 0, 0, 1, 1, 1, 1, 1, 1, 1, 1, 1])"
      ]
     },
     "execution_count": 66,
     "metadata": {},
     "output_type": "execute_result"
    },
    {
     "data": {
      "text/plain": [
       "array([ 0,  0,  0,  0,  0,  0,  0,  0,  0,  0,  0,  0, -1,  0,  0,  0,  0,\n",
       "        1,  0,  0, -1,  0,  0,  0,  0,  0,  1,  0,  0,  0,  0,  0, -1,  0,\n",
       "        0,  0,  0,  0,  0,  0,  0,  0,  0,  1,  0,  0,  0,  0,  0,  0, -1,\n",
       "        0,  0,  0,  0,  0,  0,  0,  1,  0,  0,  0,  0,  0, -1,  0,  0,  0,\n",
       "        0,  0,  0,  0,  0,  0,  0,  0,  1,  0,  0,  0,  0,  0,  0,  0,  0,\n",
       "        0,  0,  0,  0,  0, -1,  0,  0,  0,  1,  0,  0,  0, -1,  0,  0,  0,\n",
       "        0,  0,  0,  0,  0,  0,  0,  0,  1,  0,  0,  0,  0,  0,  0,  0,  0,\n",
       "       -1,  0,  0,  0,  0,  0,  0,  0,  0,  1,  0,  0,  0,  0,  0,  0, -1,\n",
       "        0,  0,  0,  0,  1,  0,  0,  0,  0,  0,  0,  0,  0])"
      ]
     },
     "execution_count": 66,
     "metadata": {},
     "output_type": "execute_result"
    }
   ],
   "source": [
    "# 计算买卖拐点\n",
    "df['positions'] = (df['diff']>=df['dea']).astype(int).values\n",
    "df['signals'] = df['positions'].diff()\n",
    "\n",
    "# 显示结果\n",
    "df['positions'].values\n",
    "df['signals'].fillna(0).astype(int).values\n",
    "\n",
    "# 绘制买卖拐点"
   ]
  },
  {
   "cell_type": "markdown",
   "metadata": {},
   "source": [
    "# 通过可视化进行效果验证"
   ]
  },
  {
   "cell_type": "code",
   "execution_count": 80,
   "metadata": {
    "ExecuteTime": {
     "end_time": "2021-04-30T09:09:40.360962Z",
     "start_time": "2021-04-30T09:09:39.972804Z"
    }
   },
   "outputs": [
    {
     "data": {
      "text/plain": [
       "<matplotlib.axes._subplots.AxesSubplot at 0x7f99ccd49b10>"
      ]
     },
     "execution_count": 80,
     "metadata": {},
     "output_type": "execute_result"
    },
    {
     "data": {
      "text/plain": [
       "<matplotlib.axes._subplots.AxesSubplot at 0x7f99ccd49b10>"
      ]
     },
     "execution_count": 80,
     "metadata": {},
     "output_type": "execute_result"
    },
    {
     "data": {
      "text/plain": [
       "<matplotlib.lines.Line2D at 0x7f99ccf524d0>"
      ]
     },
     "execution_count": 80,
     "metadata": {},
     "output_type": "execute_result"
    },
    {
     "data": {
      "text/plain": [
       "<matplotlib.lines.Line2D at 0x7f99ccf6db10>"
      ]
     },
     "execution_count": 80,
     "metadata": {},
     "output_type": "execute_result"
    },
    {
     "data": {
      "text/plain": [
       "<matplotlib.lines.Line2D at 0x7f99ccf816d0>"
      ]
     },
     "execution_count": 80,
     "metadata": {},
     "output_type": "execute_result"
    },
    {
     "data": {
      "text/plain": [
       "<matplotlib.lines.Line2D at 0x7f99ccf8c590>"
      ]
     },
     "execution_count": 80,
     "metadata": {},
     "output_type": "execute_result"
    },
    {
     "data": {
      "text/plain": [
       "<matplotlib.lines.Line2D at 0x7f99ccf8cbd0>"
      ]
     },
     "execution_count": 80,
     "metadata": {},
     "output_type": "execute_result"
    },
    {
     "data": {
      "text/plain": [
       "<matplotlib.lines.Line2D at 0x7f99ccf73810>"
      ]
     },
     "execution_count": 80,
     "metadata": {},
     "output_type": "execute_result"
    },
    {
     "data": {
      "text/plain": [
       "<matplotlib.lines.Line2D at 0x7f99cca7bcd0>"
      ]
     },
     "execution_count": 80,
     "metadata": {},
     "output_type": "execute_result"
    },
    {
     "data": {
      "text/plain": [
       "<matplotlib.lines.Line2D at 0x7f99ccccfed0>"
      ]
     },
     "execution_count": 80,
     "metadata": {},
     "output_type": "execute_result"
    },
    {
     "data": {
      "text/plain": [
       "<matplotlib.lines.Line2D at 0x7f99ccf93e50>"
      ]
     },
     "execution_count": 80,
     "metadata": {},
     "output_type": "execute_result"
    },
    {
     "data": {
      "text/plain": [
       "<matplotlib.lines.Line2D at 0x7f99ccf52510>"
      ]
     },
     "execution_count": 80,
     "metadata": {},
     "output_type": "execute_result"
    },
    {
     "data": {
      "text/plain": [
       "<matplotlib.lines.Line2D at 0x7f99ccf8c690>"
      ]
     },
     "execution_count": 80,
     "metadata": {},
     "output_type": "execute_result"
    },
    {
     "data": {
      "text/plain": [
       "<matplotlib.lines.Line2D at 0x7f99ccf976d0>"
      ]
     },
     "execution_count": 80,
     "metadata": {},
     "output_type": "execute_result"
    },
    {
     "data": {
      "text/plain": [
       "<matplotlib.lines.Line2D at 0x7f99ccf937d0>"
      ]
     },
     "execution_count": 80,
     "metadata": {},
     "output_type": "execute_result"
    },
    {
     "data": {
      "text/plain": [
       "<matplotlib.lines.Line2D at 0x7f99ccf81b50>"
      ]
     },
     "execution_count": 80,
     "metadata": {},
     "output_type": "execute_result"
    },
    {
     "data": {
      "text/plain": [
       "<matplotlib.lines.Line2D at 0x7f99ccfa6450>"
      ]
     },
     "execution_count": 80,
     "metadata": {},
     "output_type": "execute_result"
    },
    {
     "data": {
      "text/plain": [
       "<matplotlib.lines.Line2D at 0x7f99ccf973d0>"
      ]
     },
     "execution_count": 80,
     "metadata": {},
     "output_type": "execute_result"
    },
    {
     "data": {
      "text/plain": [
       "<matplotlib.lines.Line2D at 0x7f99ccf8c810>"
      ]
     },
     "execution_count": 80,
     "metadata": {},
     "output_type": "execute_result"
    },
    {
     "data": {
      "text/plain": [
       "<matplotlib.lines.Line2D at 0x7f99ccf97650>"
      ]
     },
     "execution_count": 80,
     "metadata": {},
     "output_type": "execute_result"
    },
    {
     "data": {
      "text/plain": [
       "<matplotlib.axes._subplots.AxesSubplot at 0x7f99ccd49b10>"
      ]
     },
     "execution_count": 80,
     "metadata": {},
     "output_type": "execute_result"
    },
    {
     "data": {
      "text/plain": [
       "<matplotlib.axes._subplots.AxesSubplot at 0x7f99ccd49b10>"
      ]
     },
     "execution_count": 80,
     "metadata": {},
     "output_type": "execute_result"
    },
    {
     "data": {
      "image/png": "[encoded data removed]",
      "text/plain": [
       "<Figure size 1080x720 with 1 Axes>"
      ]
     },
     "metadata": {
      "needs_background": "light"
     },
     "output_type": "display_data"
    }
   ],
   "source": [
    "# 绘制买卖拐点\n",
    "columns = ['Close','signals','diff','dea']\n",
    "tem_df = df[columns]\n",
    "tem_df[['diff','dea']].plot()\n",
    "\n",
    "# 只显示时刻点，不显示折线图 => 设置 linewidth=0\n",
    "tem_df['Close'].plot(figsize=(15,10))\n",
    "\n",
    "#添加垂直直线\n",
    "x_list=tem_df['Close'][(tem_df['signals']==1)|(tem_df['signals']==-1)].index\n",
    "for x in x_list:\n",
    "    plt.axvline(x=x,ls=\"--\",c=\"b\")\n",
    "\n",
    "    \n",
    "    tem_df['Close'][tem_df['signals']==1].plot(label='Buy', linewidth=0, marker='^', c='r')\n",
    "tem_df['Close'][tem_df['signals']==-1].plot(label='Sell', linewidth=0, marker='^', c='g')\n"
   ]
  },
  {
   "cell_type": "code",
   "execution_count": 75,
   "metadata": {
    "ExecuteTime": {
     "end_time": "2021-04-30T09:07:23.439594Z",
     "start_time": "2021-04-30T09:07:23.427714Z"
    }
   },
   "outputs": [
    {
     "data": {
      "text/plain": [
       "DatetimeIndex(['2020-06-17', '2020-06-24', '2020-06-29', '2020-07-08',\n",
       "               '2020-07-16', '2020-07-31', '2020-08-11', '2020-08-21',\n",
       "               '2020-08-31', '2020-09-17', '2020-10-07', '2020-10-13',\n",
       "               '2020-10-19', '2020-11-04', '2020-11-17', '2020-12-01',\n",
       "               '2020-12-10', '2020-12-17'],\n",
       "              dtype='datetime64[ns]', name='Date', freq=None)"
      ]
     },
     "execution_count": 75,
     "metadata": {},
     "output_type": "execute_result"
    }
   ],
   "source": []
  },
  {
   "cell_type": "code",
   "execution_count": null,
   "metadata": {},
   "outputs": [],
   "source": []
  }
 ],
 "metadata": {
  "hide_input": false,
  "kernelspec": {
   "display_name": "Python 3",
   "language": "python",
   "name": "python3"
  },
  "language_info": {
   "codemirror_mode": {
    "name": "ipython",
    "version": 3
   },
   "file_extension": ".py",
   "mimetype": "text/x-python",
   "name": "python",
   "nbconvert_exporter": "python",
   "pygments_lexer": "ipython3",
   "version": "3.7.6"
  },
  "latex_envs": {
   "LaTeX_envs_menu_present": true,
   "autoclose": false,
   "autocomplete": true,
   "bibliofile": "biblio.bib",
   "cite_by": "apalike",
   "current_citInitial": 1,
   "eqLabelWithNumbers": true,
   "eqNumInitial": 1,
   "hotkeys": {
    "equation": "Ctrl-E",
    "itemize": "Ctrl-I"
   },
   "labels_anchors": false,
   "latex_user_defs": false,
   "report_style_numbering": false,
   "user_envs_cfg": false
  },
  "toc": {
   "base_numbering": 1,
   "nav_menu": {},
   "number_sections": true,
   "sideBar": true,
   "skip_h1_title": false,
   "title_cell": "Table of Contents",
   "title_sidebar": "Contents",
   "toc_cell": false,
   "toc_position": {},
   "toc_section_display": true,
   "toc_window_display": false
  }
 },
 "nbformat": 4,
 "nbformat_minor": 4
}
