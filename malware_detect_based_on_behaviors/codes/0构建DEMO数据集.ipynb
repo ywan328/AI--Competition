{
 "cells": [
  {
   "cell_type": "markdown",
   "metadata": {},
   "source": [
    "# 任务目标"
   ]
  },
  {
   "cell_type": "raw",
   "metadata": {},
   "source": [
    "截取样本思路\n",
    "1、观察有无缺失值、异常值需要处理\n",
    "2、以file_id为单位，再不修改任何表格结构、特征名称的基础上，截取20%的file_id 作为样本跑demo\n",
    "3、之后在服务器上才进行全量数据的训练"
   ]
  },
  {
   "cell_type": "markdown",
   "metadata": {},
   "source": [
    "# 调包区"
   ]
  },
  {
   "cell_type": "code",
   "execution_count": 1,
   "metadata": {
    "ExecuteTime": {
     "end_time": "2021-03-01T06:56:20.013433Z",
     "start_time": "2021-03-01T06:56:19.171118Z"
    }
   },
   "outputs": [],
   "source": [
    "from tqdm.notebook import tqdm\n",
    "import random\n",
    "import pandas as pd\n",
    "import numpy as np\n",
    "import math\n",
    "from matplotlib import pyplot as plt\n",
    "import gc\n",
    "\n",
    "# 警告忽略\n",
    "import warnings\n",
    "warnings.filterwarnings(\"ignore\")\n",
    "\n",
    "# matplotlib字体设置\n",
    "plt.rcParams[\"font.family\"] = \"Songti SC\"\n",
    "plt.rcParams[\"axes.unicode_minus\"] = False\n",
    "\n",
    "# matplotlib警告忽略\n",
    "pd.plotting.register_matplotlib_converters()\n",
    "\n",
    "\n",
    "# 观看Dataframe长度\n",
    "pd.set_option('display.max_rows', 10)\n",
    "pd.set_option('display.max_columns', None)\n",
    "# 浮点数位长度\n",
    "pd.set_option('display.precision',5)\n",
    "\n",
    "# 显示多个结果\n",
    "from IPython.core.interactiveshell import InteractiveShell\n",
    "InteractiveShell.ast_node_interactivity = 'all' # ['all', 'last', 'last_expr', 'none', 'last_expr_or_assign']"
   ]
  },
  {
   "cell_type": "markdown",
   "metadata": {},
   "source": [
    "# 打开少量文件进行预览"
   ]
  },
  {
   "cell_type": "code",
   "execution_count": 2,
   "metadata": {
    "ExecuteTime": {
     "end_time": "2021-03-01T06:56:20.047704Z",
     "start_time": "2021-03-01T06:56:20.016531Z"
    }
   },
   "outputs": [
    {
     "data": {
      "text/html": [
       "<div>\n",
       "<style scoped>\n",
       "    .dataframe tbody tr th:only-of-type {\n",
       "        vertical-align: middle;\n",
       "    }\n",
       "\n",
       "    .dataframe tbody tr th {\n",
       "        vertical-align: top;\n",
       "    }\n",
       "\n",
       "    .dataframe thead th {\n",
       "        text-align: right;\n",
       "    }\n",
       "</style>\n",
       "<table border=\"1\" class=\"dataframe\">\n",
       "  <thead>\n",
       "    <tr style=\"text-align: right;\">\n",
       "      <th></th>\n",
       "      <th>file_id</th>\n",
       "      <th>label</th>\n",
       "      <th>api</th>\n",
       "      <th>tid</th>\n",
       "      <th>index</th>\n",
       "    </tr>\n",
       "  </thead>\n",
       "  <tbody>\n",
       "    <tr>\n",
       "      <th>0</th>\n",
       "      <td>1</td>\n",
       "      <td>5</td>\n",
       "      <td>LdrLoadDll</td>\n",
       "      <td>2488</td>\n",
       "      <td>0</td>\n",
       "    </tr>\n",
       "    <tr>\n",
       "      <th>1</th>\n",
       "      <td>1</td>\n",
       "      <td>5</td>\n",
       "      <td>LdrGetProcedureAddress</td>\n",
       "      <td>2488</td>\n",
       "      <td>1</td>\n",
       "    </tr>\n",
       "    <tr>\n",
       "      <th>2</th>\n",
       "      <td>1</td>\n",
       "      <td>5</td>\n",
       "      <td>LdrGetProcedureAddress</td>\n",
       "      <td>2488</td>\n",
       "      <td>2</td>\n",
       "    </tr>\n",
       "    <tr>\n",
       "      <th>3</th>\n",
       "      <td>1</td>\n",
       "      <td>5</td>\n",
       "      <td>LdrGetProcedureAddress</td>\n",
       "      <td>2488</td>\n",
       "      <td>3</td>\n",
       "    </tr>\n",
       "    <tr>\n",
       "      <th>4</th>\n",
       "      <td>1</td>\n",
       "      <td>5</td>\n",
       "      <td>LdrGetProcedureAddress</td>\n",
       "      <td>2488</td>\n",
       "      <td>4</td>\n",
       "    </tr>\n",
       "    <tr>\n",
       "      <th>5</th>\n",
       "      <td>1</td>\n",
       "      <td>5</td>\n",
       "      <td>LdrGetProcedureAddress</td>\n",
       "      <td>2488</td>\n",
       "      <td>5</td>\n",
       "    </tr>\n",
       "    <tr>\n",
       "      <th>6</th>\n",
       "      <td>1</td>\n",
       "      <td>5</td>\n",
       "      <td>LdrGetProcedureAddress</td>\n",
       "      <td>2488</td>\n",
       "      <td>6</td>\n",
       "    </tr>\n",
       "    <tr>\n",
       "      <th>7</th>\n",
       "      <td>1</td>\n",
       "      <td>5</td>\n",
       "      <td>LdrGetProcedureAddress</td>\n",
       "      <td>2488</td>\n",
       "      <td>7</td>\n",
       "    </tr>\n",
       "    <tr>\n",
       "      <th>8</th>\n",
       "      <td>1</td>\n",
       "      <td>5</td>\n",
       "      <td>LdrGetProcedureAddress</td>\n",
       "      <td>2488</td>\n",
       "      <td>8</td>\n",
       "    </tr>\n",
       "    <tr>\n",
       "      <th>9</th>\n",
       "      <td>1</td>\n",
       "      <td>5</td>\n",
       "      <td>LdrGetProcedureAddress</td>\n",
       "      <td>2488</td>\n",
       "      <td>9</td>\n",
       "    </tr>\n",
       "  </tbody>\n",
       "</table>\n",
       "</div>"
      ],
      "text/plain": [
       "   file_id  label                     api   tid  index\n",
       "0        1      5              LdrLoadDll  2488      0\n",
       "1        1      5  LdrGetProcedureAddress  2488      1\n",
       "2        1      5  LdrGetProcedureAddress  2488      2\n",
       "3        1      5  LdrGetProcedureAddress  2488      3\n",
       "4        1      5  LdrGetProcedureAddress  2488      4\n",
       "5        1      5  LdrGetProcedureAddress  2488      5\n",
       "6        1      5  LdrGetProcedureAddress  2488      6\n",
       "7        1      5  LdrGetProcedureAddress  2488      7\n",
       "8        1      5  LdrGetProcedureAddress  2488      8\n",
       "9        1      5  LdrGetProcedureAddress  2488      9"
      ]
     },
     "execution_count": 2,
     "metadata": {},
     "output_type": "execute_result"
    },
    {
     "data": {
      "text/html": [
       "<div>\n",
       "<style scoped>\n",
       "    .dataframe tbody tr th:only-of-type {\n",
       "        vertical-align: middle;\n",
       "    }\n",
       "\n",
       "    .dataframe tbody tr th {\n",
       "        vertical-align: top;\n",
       "    }\n",
       "\n",
       "    .dataframe thead th {\n",
       "        text-align: right;\n",
       "    }\n",
       "</style>\n",
       "<table border=\"1\" class=\"dataframe\">\n",
       "  <thead>\n",
       "    <tr style=\"text-align: right;\">\n",
       "      <th></th>\n",
       "      <th>file_id</th>\n",
       "      <th>api</th>\n",
       "      <th>tid</th>\n",
       "      <th>index</th>\n",
       "    </tr>\n",
       "  </thead>\n",
       "  <tbody>\n",
       "    <tr>\n",
       "      <th>0</th>\n",
       "      <td>1</td>\n",
       "      <td>RegOpenKeyExA</td>\n",
       "      <td>2332</td>\n",
       "      <td>0</td>\n",
       "    </tr>\n",
       "    <tr>\n",
       "      <th>1</th>\n",
       "      <td>1</td>\n",
       "      <td>CopyFileA</td>\n",
       "      <td>2332</td>\n",
       "      <td>1</td>\n",
       "    </tr>\n",
       "    <tr>\n",
       "      <th>2</th>\n",
       "      <td>1</td>\n",
       "      <td>OpenSCManagerA</td>\n",
       "      <td>2332</td>\n",
       "      <td>2</td>\n",
       "    </tr>\n",
       "    <tr>\n",
       "      <th>3</th>\n",
       "      <td>1</td>\n",
       "      <td>CreateServiceA</td>\n",
       "      <td>2332</td>\n",
       "      <td>3</td>\n",
       "    </tr>\n",
       "    <tr>\n",
       "      <th>4</th>\n",
       "      <td>1</td>\n",
       "      <td>RegOpenKeyExA</td>\n",
       "      <td>2468</td>\n",
       "      <td>0</td>\n",
       "    </tr>\n",
       "    <tr>\n",
       "      <th>5</th>\n",
       "      <td>1</td>\n",
       "      <td>CopyFileA</td>\n",
       "      <td>2468</td>\n",
       "      <td>1</td>\n",
       "    </tr>\n",
       "    <tr>\n",
       "      <th>6</th>\n",
       "      <td>1</td>\n",
       "      <td>OpenSCManagerA</td>\n",
       "      <td>2468</td>\n",
       "      <td>2</td>\n",
       "    </tr>\n",
       "    <tr>\n",
       "      <th>7</th>\n",
       "      <td>1</td>\n",
       "      <td>CreateServiceA</td>\n",
       "      <td>2468</td>\n",
       "      <td>3</td>\n",
       "    </tr>\n",
       "    <tr>\n",
       "      <th>8</th>\n",
       "      <td>1</td>\n",
       "      <td>StartServiceA</td>\n",
       "      <td>2468</td>\n",
       "      <td>4</td>\n",
       "    </tr>\n",
       "    <tr>\n",
       "      <th>9</th>\n",
       "      <td>1</td>\n",
       "      <td>NtCreateThreadEx</td>\n",
       "      <td>2468</td>\n",
       "      <td>5</td>\n",
       "    </tr>\n",
       "  </tbody>\n",
       "</table>\n",
       "</div>"
      ],
      "text/plain": [
       "   file_id               api   tid  index\n",
       "0        1     RegOpenKeyExA  2332      0\n",
       "1        1         CopyFileA  2332      1\n",
       "2        1    OpenSCManagerA  2332      2\n",
       "3        1    CreateServiceA  2332      3\n",
       "4        1     RegOpenKeyExA  2468      0\n",
       "5        1         CopyFileA  2468      1\n",
       "6        1    OpenSCManagerA  2468      2\n",
       "7        1    CreateServiceA  2468      3\n",
       "8        1     StartServiceA  2468      4\n",
       "9        1  NtCreateThreadEx  2468      5"
      ]
     },
     "execution_count": 2,
     "metadata": {},
     "output_type": "execute_result"
    }
   ],
   "source": [
    "# 效果：实现快速预览超大数据集的效果，而不需要等到全部加载玩才能观看\n",
    "path = './fulldata'\n",
    "\n",
    "train_data = pd.read_csv(f'{path}/security_train.csv',iterator=True)\n",
    "test_data = pd.read_csv(f'{path}/security_test.csv',iterator=True)\n",
    "train_data.get_chunk(10)\n",
    "test_data.get_chunk(10)\n"
   ]
  },
  {
   "cell_type": "markdown",
   "metadata": {},
   "source": [
    "# 批量打开全部文件"
   ]
  },
  {
   "cell_type": "code",
   "execution_count": 3,
   "metadata": {
    "ExecuteTime": {
     "end_time": "2021-03-01T06:58:08.585544Z",
     "start_time": "2021-03-01T06:56:20.050665Z"
    }
   },
   "outputs": [
    {
     "data": {
      "application/vnd.jupyter.widget-view+json": {
       "model_id": "a9f99ccec97b476fa8c851fee7b8b219",
       "version_major": 2,
       "version_minor": 0
      },
      "text/plain": [
       "HBox(children=(FloatProgress(value=1.0, bar_style='info', layout=Layout(width='20px'), max=1.0), HTML(value=''…"
      ]
     },
     "metadata": {},
     "output_type": "display_data"
    },
    {
     "name": "stdout",
     "output_type": "stream",
     "text": [
      "\n",
      "打开完成！\n"
     ]
    },
    {
     "data": {
      "application/vnd.jupyter.widget-view+json": {
       "model_id": "93b398d973bb45baa35fcf261c5b692c",
       "version_major": 2,
       "version_minor": 0
      },
      "text/plain": [
       "HBox(children=(FloatProgress(value=1.0, bar_style='info', layout=Layout(width='20px'), max=1.0), HTML(value=''…"
      ]
     },
     "metadata": {},
     "output_type": "display_data"
    },
    {
     "name": "stdout",
     "output_type": "stream",
     "text": [
      "\n",
      "打开完成！\n"
     ]
    }
   ],
   "source": [
    "def read_csv_chunk(file_path):\n",
    "    # 定义chunk\n",
    "    chunk_data = pd.read_csv(file_path,chunksize=100000)\n",
    "\n",
    "    # 遍历打开\n",
    "    df_list = []\n",
    "    for part_df in tqdm(chunk_data):\n",
    "        df_list.append(part_df)\n",
    "    print(\"打开完成！\")\n",
    "\n",
    "    # 合并表格\n",
    "    df = pd.concat(df_list,axis=0)\n",
    "    \n",
    "    # 回收内存\n",
    "    del df_list\n",
    "    gc.collect()\n",
    "    return(df)\n",
    "\n",
    "\n",
    "path = './fulldata'\n",
    "\n",
    "train_data = read_csv_chunk(f'{path}/security_train.csv') # 打开训练集\n",
    "test_data = read_csv_chunk(f'{path}/security_test.csv') # 打开测试集"
   ]
  },
  {
   "cell_type": "markdown",
   "metadata": {},
   "source": [
    "# 进行简单的数据观察"
   ]
  },
  {
   "cell_type": "code",
   "execution_count": 4,
   "metadata": {
    "ExecuteTime": {
     "end_time": "2021-03-01T06:58:31.898981Z",
     "start_time": "2021-03-01T06:58:08.590423Z"
    }
   },
   "outputs": [
    {
     "data": {
      "text/plain": [
       "file_id    0\n",
       "label      0\n",
       "api        0\n",
       "tid        0\n",
       "index      0\n",
       "dtype: int64"
      ]
     },
     "execution_count": 4,
     "metadata": {},
     "output_type": "execute_result"
    },
    {
     "data": {
      "text/html": [
       "<div>\n",
       "<style scoped>\n",
       "    .dataframe tbody tr th:only-of-type {\n",
       "        vertical-align: middle;\n",
       "    }\n",
       "\n",
       "    .dataframe tbody tr th {\n",
       "        vertical-align: top;\n",
       "    }\n",
       "\n",
       "    .dataframe thead th {\n",
       "        text-align: right;\n",
       "    }\n",
       "</style>\n",
       "<table border=\"1\" class=\"dataframe\">\n",
       "  <thead>\n",
       "    <tr style=\"text-align: right;\">\n",
       "      <th></th>\n",
       "      <th>count</th>\n",
       "      <th>mean</th>\n",
       "      <th>std</th>\n",
       "      <th>min</th>\n",
       "      <th>25%</th>\n",
       "      <th>50%</th>\n",
       "      <th>75%</th>\n",
       "      <th>max</th>\n",
       "    </tr>\n",
       "  </thead>\n",
       "  <tbody>\n",
       "    <tr>\n",
       "      <th>file_id</th>\n",
       "      <td>89806693.0</td>\n",
       "      <td>7078.77015</td>\n",
       "      <td>3998.79413</td>\n",
       "      <td>1.0</td>\n",
       "      <td>3637.0</td>\n",
       "      <td>7161.0</td>\n",
       "      <td>10551.0</td>\n",
       "      <td>13887.0</td>\n",
       "    </tr>\n",
       "    <tr>\n",
       "      <th>label</th>\n",
       "      <td>89806693.0</td>\n",
       "      <td>3.86284</td>\n",
       "      <td>2.39378</td>\n",
       "      <td>0.0</td>\n",
       "      <td>2.0</td>\n",
       "      <td>5.0</td>\n",
       "      <td>5.0</td>\n",
       "      <td>7.0</td>\n",
       "    </tr>\n",
       "    <tr>\n",
       "      <th>tid</th>\n",
       "      <td>89806693.0</td>\n",
       "      <td>2533.02802</td>\n",
       "      <td>699.57977</td>\n",
       "      <td>100.0</td>\n",
       "      <td>2356.0</td>\n",
       "      <td>2564.0</td>\n",
       "      <td>2776.0</td>\n",
       "      <td>20896.0</td>\n",
       "    </tr>\n",
       "    <tr>\n",
       "      <th>index</th>\n",
       "      <td>89806693.0</td>\n",
       "      <td>1547.52081</td>\n",
       "      <td>1412.24899</td>\n",
       "      <td>0.0</td>\n",
       "      <td>349.0</td>\n",
       "      <td>1085.0</td>\n",
       "      <td>2503.0</td>\n",
       "      <td>5000.0</td>\n",
       "    </tr>\n",
       "  </tbody>\n",
       "</table>\n",
       "</div>"
      ],
      "text/plain": [
       "              count        mean         std    min     25%     50%      75%  \\\n",
       "file_id  89806693.0  7078.77015  3998.79413    1.0  3637.0  7161.0  10551.0   \n",
       "label    89806693.0     3.86284     2.39378    0.0     2.0     5.0      5.0   \n",
       "tid      89806693.0  2533.02802   699.57977  100.0  2356.0  2564.0   2776.0   \n",
       "index    89806693.0  1547.52081  1412.24899    0.0   349.0  1085.0   2503.0   \n",
       "\n",
       "             max  \n",
       "file_id  13887.0  \n",
       "label        7.0  \n",
       "tid      20896.0  \n",
       "index     5000.0  "
      ]
     },
     "execution_count": 4,
     "metadata": {},
     "output_type": "execute_result"
    }
   ],
   "source": [
    "train_data.isnull().sum()\n",
    "train_data.describe().T\n"
   ]
  },
  {
   "cell_type": "raw",
   "metadata": {},
   "source": [
    "训练集数据观察：\n",
    "1、没有缺失值\n",
    "2、也没有发现明显的异常值"
   ]
  },
  {
   "cell_type": "code",
   "execution_count": 5,
   "metadata": {
    "ExecuteTime": {
     "end_time": "2021-03-01T06:58:47.940597Z",
     "start_time": "2021-03-01T06:58:31.902273Z"
    }
   },
   "outputs": [
    {
     "data": {
      "text/plain": [
       "file_id    0\n",
       "api        0\n",
       "tid        0\n",
       "index      0\n",
       "dtype: int64"
      ]
     },
     "execution_count": 5,
     "metadata": {},
     "output_type": "execute_result"
    },
    {
     "data": {
      "text/html": [
       "<div>\n",
       "<style scoped>\n",
       "    .dataframe tbody tr th:only-of-type {\n",
       "        vertical-align: middle;\n",
       "    }\n",
       "\n",
       "    .dataframe tbody tr th {\n",
       "        vertical-align: top;\n",
       "    }\n",
       "\n",
       "    .dataframe thead th {\n",
       "        text-align: right;\n",
       "    }\n",
       "</style>\n",
       "<table border=\"1\" class=\"dataframe\">\n",
       "  <thead>\n",
       "    <tr style=\"text-align: right;\">\n",
       "      <th></th>\n",
       "      <th>count</th>\n",
       "      <th>mean</th>\n",
       "      <th>std</th>\n",
       "      <th>min</th>\n",
       "      <th>25%</th>\n",
       "      <th>50%</th>\n",
       "      <th>75%</th>\n",
       "      <th>max</th>\n",
       "    </tr>\n",
       "  </thead>\n",
       "  <tbody>\n",
       "    <tr>\n",
       "      <th>file_id</th>\n",
       "      <td>79288375.0</td>\n",
       "      <td>6446.97137</td>\n",
       "      <td>3712.19238</td>\n",
       "      <td>1.0</td>\n",
       "      <td>3208.0</td>\n",
       "      <td>6387.0</td>\n",
       "      <td>9610.0</td>\n",
       "      <td>12955.0</td>\n",
       "    </tr>\n",
       "    <tr>\n",
       "      <th>tid</th>\n",
       "      <td>79288375.0</td>\n",
       "      <td>2491.91428</td>\n",
       "      <td>582.45997</td>\n",
       "      <td>100.0</td>\n",
       "      <td>2360.0</td>\n",
       "      <td>2556.0</td>\n",
       "      <td>2752.0</td>\n",
       "      <td>9196.0</td>\n",
       "    </tr>\n",
       "    <tr>\n",
       "      <th>index</th>\n",
       "      <td>79288375.0</td>\n",
       "      <td>1584.81483</td>\n",
       "      <td>1411.11610</td>\n",
       "      <td>0.0</td>\n",
       "      <td>390.0</td>\n",
       "      <td>1131.0</td>\n",
       "      <td>2547.0</td>\n",
       "      <td>5000.0</td>\n",
       "    </tr>\n",
       "  </tbody>\n",
       "</table>\n",
       "</div>"
      ],
      "text/plain": [
       "              count        mean         std    min     25%     50%     75%  \\\n",
       "file_id  79288375.0  6446.97137  3712.19238    1.0  3208.0  6387.0  9610.0   \n",
       "tid      79288375.0  2491.91428   582.45997  100.0  2360.0  2556.0  2752.0   \n",
       "index    79288375.0  1584.81483  1411.11610    0.0   390.0  1131.0  2547.0   \n",
       "\n",
       "             max  \n",
       "file_id  12955.0  \n",
       "tid       9196.0  \n",
       "index     5000.0  "
      ]
     },
     "execution_count": 5,
     "metadata": {},
     "output_type": "execute_result"
    }
   ],
   "source": [
    "test_data.isnull().sum()\n",
    "test_data.describe().T"
   ]
  },
  {
   "cell_type": "raw",
   "metadata": {},
   "source": [
    "测试集集数据观察：\n",
    "1、没有缺失值\n",
    "2、也没有发现明显的异常值"
   ]
  },
  {
   "cell_type": "markdown",
   "metadata": {},
   "source": [
    "# 进行数据切分"
   ]
  },
  {
   "cell_type": "code",
   "execution_count": 6,
   "metadata": {
    "ExecuteTime": {
     "end_time": "2021-03-01T06:59:00.498766Z",
     "start_time": "2021-03-01T06:58:47.942732Z"
    }
   },
   "outputs": [
    {
     "name": "stdout",
     "output_type": "stream",
     "text": [
      "demo的file_id长度: 278\n",
      "<class 'pandas.core.frame.DataFrame'>\n",
      "Int64Index: 1930016 entries, 1697900 to 89798401\n",
      "Data columns (total 5 columns):\n",
      " #   Column   Dtype \n",
      "---  ------   ----- \n",
      " 0   file_id  int64 \n",
      " 1   label    int64 \n",
      " 2   api      object\n",
      " 3   tid      int64 \n",
      " 4   index    int64 \n",
      "dtypes: int64(4), object(1)\n",
      "memory usage: 88.3+ MB\n",
      "demo的file_id长度: 260\n",
      "<class 'pandas.core.frame.DataFrame'>\n",
      "Int64Index: 1855807 entries, 1308695 to 79201751\n",
      "Data columns (total 4 columns):\n",
      " #   Column   Dtype \n",
      "---  ------   ----- \n",
      " 0   file_id  int64 \n",
      " 1   api      object\n",
      " 2   tid      int64 \n",
      " 3   index    int64 \n",
      "dtypes: int64(3), object(1)\n",
      "memory usage: 70.8+ MB\n"
     ]
    }
   ],
   "source": [
    "def get_demo_data(df):\n",
    "    ############################################################\n",
    "\n",
    "    # 进行数据切割\n",
    "    from sklearn.model_selection import train_test_split\n",
    "\n",
    "    file_id_list = df['file_id'].unique()\n",
    "\n",
    "    _id,demo_id = train_test_split(file_id_list,test_size=0.02)\n",
    "    print(\"demo的file_id长度:\",demo_id.shape[0])\n",
    "\n",
    "    demo_df = df[df['file_id'].isin(demo_id)]\n",
    "    demo_df.info()\n",
    "    \n",
    "    return (demo_df)\n",
    "\n",
    "\n",
    "train_demo_data = get_demo_data(train_data)\n",
    "test_demo_data = get_demo_data(test_data)\n",
    "\n"
   ]
  },
  {
   "cell_type": "markdown",
   "metadata": {},
   "source": [
    "# 保存DEMO数据"
   ]
  },
  {
   "cell_type": "code",
   "execution_count": 7,
   "metadata": {
    "ExecuteTime": {
     "end_time": "2021-03-01T06:59:06.461483Z",
     "start_time": "2021-03-01T06:59:00.501328Z"
    }
   },
   "outputs": [],
   "source": [
    "path = './sampledata'\n",
    "train_demo_data.to_csv(f'{path}/security_train.csv',index=None)\n",
    "test_demo_data.to_csv(f'{path}/security_test.csv',index=None)"
   ]
  },
  {
   "cell_type": "code",
   "execution_count": null,
   "metadata": {},
   "outputs": [],
   "source": []
  },
  {
   "cell_type": "code",
   "execution_count": null,
   "metadata": {},
   "outputs": [],
   "source": []
  }
 ],
 "metadata": {
  "hide_input": false,
  "kernelspec": {
   "display_name": "Python 3",
   "language": "python",
   "name": "python3"
  },
  "language_info": {
   "codemirror_mode": {
    "name": "ipython",
    "version": 3
   },
   "file_extension": ".py",
   "mimetype": "text/x-python",
   "name": "python",
   "nbconvert_exporter": "python",
   "pygments_lexer": "ipython3",
   "version": "3.7.6"
  },
  "latex_envs": {
   "LaTeX_envs_menu_present": true,
   "autoclose": false,
   "autocomplete": true,
   "bibliofile": "biblio.bib",
   "cite_by": "apalike",
   "current_citInitial": 1,
   "eqLabelWithNumbers": true,
   "eqNumInitial": 1,
   "hotkeys": {
    "equation": "Ctrl-E",
    "itemize": "Ctrl-I"
   },
   "labels_anchors": false,
   "latex_user_defs": false,
   "report_style_numbering": false,
   "user_envs_cfg": false
  },
  "toc": {
   "base_numbering": 1,
   "nav_menu": {},
   "number_sections": true,
   "sideBar": true,
   "skip_h1_title": false,
   "title_cell": "Table of Contents",
   "title_sidebar": "Contents",
   "toc_cell": false,
   "toc_position": {},
   "toc_section_display": true,
   "toc_window_display": true
  }
 },
 "nbformat": 4,
 "nbformat_minor": 4
}
