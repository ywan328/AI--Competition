{
 "cells": [
  {
   "cell_type": "code",
   "execution_count": 1,
   "metadata": {
    "ExecuteTime": {
     "end_time": "2020-11-09T01:29:07.913076Z",
     "start_time": "2020-11-09T01:29:07.441424Z"
    }
   },
   "outputs": [],
   "source": [
    "import pandas as pd\n",
    "from sklearn.metrics import roc_auc_score"
   ]
  },
  {
   "cell_type": "code",
   "execution_count": 2,
   "metadata": {
    "ExecuteTime": {
     "end_time": "2020-11-09T01:29:08.015033Z",
     "start_time": "2020-11-09T01:29:07.914699Z"
    }
   },
   "outputs": [],
   "source": [
    "lgb_sub = pd.read_csv('prob/sub_lgb.csv')\n",
    "xgb_sub = pd.read_csv('prob/sub_xgb.csv')\n",
    "cbt_sub = pd.read_csv('prob/sub_cbt.csv')"
   ]
  },
  {
   "cell_type": "code",
   "execution_count": 3,
   "metadata": {
    "ExecuteTime": {
     "end_time": "2020-11-09T01:29:08.487565Z",
     "start_time": "2020-11-09T01:29:08.017647Z"
    }
   },
   "outputs": [],
   "source": [
    "lgb_oof = pd.read_csv('prob/oof_lgb.csv')\n",
    "xgb_oof = pd.read_csv('prob/oof_xgb.csv')\n",
    "cbt_oof = pd.read_csv('prob/oof_cbt.csv')"
   ]
  },
  {
   "cell_type": "code",
   "execution_count": 4,
   "metadata": {
    "ExecuteTime": {
     "end_time": "2020-11-09T01:29:08.525779Z",
     "start_time": "2020-11-09T01:29:08.489222Z"
    }
   },
   "outputs": [
    {
     "data": {
      "text/html": [
       "<div>\n",
       "<style scoped>\n",
       "    .dataframe tbody tr th:only-of-type {\n",
       "        vertical-align: middle;\n",
       "    }\n",
       "\n",
       "    .dataframe tbody tr th {\n",
       "        vertical-align: top;\n",
       "    }\n",
       "\n",
       "    .dataframe thead th {\n",
       "        text-align: right;\n",
       "    }\n",
       "</style>\n",
       "<table border=\"1\" class=\"dataframe\">\n",
       "  <thead>\n",
       "    <tr style=\"text-align: right;\">\n",
       "      <th></th>\n",
       "      <th>id</th>\n",
       "      <th>prob_lgb</th>\n",
       "      <th>prob_xgb</th>\n",
       "      <th>prob_cbt</th>\n",
       "    </tr>\n",
       "  </thead>\n",
       "  <tbody>\n",
       "    <tr>\n",
       "      <th>0</th>\n",
       "      <td>800000</td>\n",
       "      <td>0.189512</td>\n",
       "      <td>0.052258</td>\n",
       "      <td>0.054796</td>\n",
       "    </tr>\n",
       "    <tr>\n",
       "      <th>1</th>\n",
       "      <td>800001</td>\n",
       "      <td>0.635726</td>\n",
       "      <td>0.308782</td>\n",
       "      <td>0.331217</td>\n",
       "    </tr>\n",
       "    <tr>\n",
       "      <th>2</th>\n",
       "      <td>800002</td>\n",
       "      <td>0.577289</td>\n",
       "      <td>0.264748</td>\n",
       "      <td>0.339922</td>\n",
       "    </tr>\n",
       "    <tr>\n",
       "      <th>3</th>\n",
       "      <td>800003</td>\n",
       "      <td>0.626123</td>\n",
       "      <td>0.299554</td>\n",
       "      <td>0.298638</td>\n",
       "    </tr>\n",
       "    <tr>\n",
       "      <th>4</th>\n",
       "      <td>800004</td>\n",
       "      <td>0.712837</td>\n",
       "      <td>0.363835</td>\n",
       "      <td>0.388608</td>\n",
       "    </tr>\n",
       "  </tbody>\n",
       "</table>\n",
       "</div>"
      ],
      "text/plain": [
       "       id  prob_lgb  prob_xgb  prob_cbt\n",
       "0  800000  0.189512  0.052258  0.054796\n",
       "1  800001  0.635726  0.308782  0.331217\n",
       "2  800002  0.577289  0.264748  0.339922\n",
       "3  800003  0.626123  0.299554  0.298638\n",
       "4  800004  0.712837  0.363835  0.388608"
      ]
     },
     "execution_count": 4,
     "metadata": {},
     "output_type": "execute_result"
    }
   ],
   "source": [
    "sub = lgb_sub.copy()\n",
    "sub.rename({'prob': 'prob_lgb'}, axis=1, inplace=True)\n",
    "sub['prob_xgb'] = xgb_sub['prob'].values.tolist()\n",
    "sub['prob_cbt'] = cbt_sub['prob'].values.tolist()\n",
    "sub.head()"
   ]
  },
  {
   "cell_type": "code",
   "execution_count": 5,
   "metadata": {
    "ExecuteTime": {
     "end_time": "2020-11-09T01:29:08.676101Z",
     "start_time": "2020-11-09T01:29:08.526828Z"
    }
   },
   "outputs": [
    {
     "data": {
      "text/html": [
       "<div>\n",
       "<style scoped>\n",
       "    .dataframe tbody tr th:only-of-type {\n",
       "        vertical-align: middle;\n",
       "    }\n",
       "\n",
       "    .dataframe tbody tr th {\n",
       "        vertical-align: top;\n",
       "    }\n",
       "\n",
       "    .dataframe thead th {\n",
       "        text-align: right;\n",
       "    }\n",
       "</style>\n",
       "<table border=\"1\" class=\"dataframe\">\n",
       "  <thead>\n",
       "    <tr style=\"text-align: right;\">\n",
       "      <th></th>\n",
       "      <th>id</th>\n",
       "      <th>prob_lgb</th>\n",
       "      <th>isDefault</th>\n",
       "      <th>prob_xgb</th>\n",
       "      <th>prob_cbt</th>\n",
       "    </tr>\n",
       "  </thead>\n",
       "  <tbody>\n",
       "    <tr>\n",
       "      <th>0</th>\n",
       "      <td>1</td>\n",
       "      <td>0.534962</td>\n",
       "      <td>0.0</td>\n",
       "      <td>0.298526</td>\n",
       "      <td>0.240333</td>\n",
       "    </tr>\n",
       "    <tr>\n",
       "      <th>1</th>\n",
       "      <td>23</td>\n",
       "      <td>0.674715</td>\n",
       "      <td>1.0</td>\n",
       "      <td>0.341080</td>\n",
       "      <td>0.344511</td>\n",
       "    </tr>\n",
       "    <tr>\n",
       "      <th>2</th>\n",
       "      <td>28</td>\n",
       "      <td>0.341769</td>\n",
       "      <td>0.0</td>\n",
       "      <td>0.115245</td>\n",
       "      <td>0.120330</td>\n",
       "    </tr>\n",
       "    <tr>\n",
       "      <th>3</th>\n",
       "      <td>32</td>\n",
       "      <td>0.639611</td>\n",
       "      <td>0.0</td>\n",
       "      <td>0.278753</td>\n",
       "      <td>0.311702</td>\n",
       "    </tr>\n",
       "    <tr>\n",
       "      <th>4</th>\n",
       "      <td>42</td>\n",
       "      <td>0.625265</td>\n",
       "      <td>1.0</td>\n",
       "      <td>0.295865</td>\n",
       "      <td>0.295955</td>\n",
       "    </tr>\n",
       "  </tbody>\n",
       "</table>\n",
       "</div>"
      ],
      "text/plain": [
       "   id  prob_lgb  isDefault  prob_xgb  prob_cbt\n",
       "0   1  0.534962        0.0  0.298526  0.240333\n",
       "1  23  0.674715        1.0  0.341080  0.344511\n",
       "2  28  0.341769        0.0  0.115245  0.120330\n",
       "3  32  0.639611        0.0  0.278753  0.311702\n",
       "4  42  0.625265        1.0  0.295865  0.295955"
      ]
     },
     "execution_count": 5,
     "metadata": {},
     "output_type": "execute_result"
    }
   ],
   "source": [
    "oof = lgb_oof.copy()\n",
    "oof.rename({'prob': 'prob_lgb'}, axis=1, inplace=True)\n",
    "oof['prob_xgb'] = xgb_oof['prob'].values.tolist()\n",
    "oof['prob_cbt'] = cbt_oof['prob'].values.tolist()\n",
    "oof.head()"
   ]
  },
  {
   "cell_type": "code",
   "execution_count": 6,
   "metadata": {
    "ExecuteTime": {
     "end_time": "2020-11-09T01:29:09.330753Z",
     "start_time": "2020-11-09T01:29:08.677906Z"
    }
   },
   "outputs": [
    {
     "data": {
      "text/plain": [
       "(0.742672420904967, 0.743330876642909, 0.7434870090279698)"
      ]
     },
     "execution_count": 6,
     "metadata": {},
     "output_type": "execute_result"
    }
   ],
   "source": [
    "auc1 = roc_auc_score(oof['isDefault'], oof['prob_lgb'])\n",
    "auc2 = roc_auc_score(oof['isDefault'], oof['prob_xgb'])\n",
    "auc3 = roc_auc_score(oof['isDefault'], oof['prob_cbt'])\n",
    "\n",
    "auc1, auc2, auc3"
   ]
  },
  {
   "cell_type": "code",
   "execution_count": 7,
   "metadata": {
    "ExecuteTime": {
     "end_time": "2020-11-09T01:29:09.577750Z",
     "start_time": "2020-11-09T01:29:09.332279Z"
    }
   },
   "outputs": [
    {
     "data": {
      "text/plain": [
       "0.744289702409715"
      ]
     },
     "execution_count": 7,
     "metadata": {},
     "output_type": "execute_result"
    }
   ],
   "source": [
    "w_lgb = 0.5\n",
    "w_xgb = 0.5\n",
    "w_cbt = 0.5\n",
    "\n",
    "oof['prob'] = oof['prob_lgb'] ** w_lgb * oof['prob_xgb'] ** w_xgb * oof['prob_cbt'] ** w_cbt\n",
    "auc = roc_auc_score(oof['isDefault'], oof['prob'])\n",
    "auc"
   ]
  },
  {
   "cell_type": "code",
   "execution_count": 8,
   "metadata": {
    "ExecuteTime": {
     "end_time": "2020-11-09T01:29:09.598090Z",
     "start_time": "2020-11-09T01:29:09.580153Z"
    }
   },
   "outputs": [
    {
     "data": {
      "text/html": [
       "<div>\n",
       "<style scoped>\n",
       "    .dataframe tbody tr th:only-of-type {\n",
       "        vertical-align: middle;\n",
       "    }\n",
       "\n",
       "    .dataframe tbody tr th {\n",
       "        vertical-align: top;\n",
       "    }\n",
       "\n",
       "    .dataframe thead th {\n",
       "        text-align: right;\n",
       "    }\n",
       "</style>\n",
       "<table border=\"1\" class=\"dataframe\">\n",
       "  <thead>\n",
       "    <tr style=\"text-align: right;\">\n",
       "      <th></th>\n",
       "      <th>id</th>\n",
       "      <th>prob_lgb</th>\n",
       "      <th>prob_xgb</th>\n",
       "      <th>prob_cbt</th>\n",
       "      <th>prob</th>\n",
       "    </tr>\n",
       "  </thead>\n",
       "  <tbody>\n",
       "    <tr>\n",
       "      <th>0</th>\n",
       "      <td>800000</td>\n",
       "      <td>0.189512</td>\n",
       "      <td>0.052258</td>\n",
       "      <td>0.054796</td>\n",
       "      <td>0.023295</td>\n",
       "    </tr>\n",
       "    <tr>\n",
       "      <th>1</th>\n",
       "      <td>800001</td>\n",
       "      <td>0.635726</td>\n",
       "      <td>0.308782</td>\n",
       "      <td>0.331217</td>\n",
       "      <td>0.254987</td>\n",
       "    </tr>\n",
       "    <tr>\n",
       "      <th>2</th>\n",
       "      <td>800002</td>\n",
       "      <td>0.577289</td>\n",
       "      <td>0.264748</td>\n",
       "      <td>0.339922</td>\n",
       "      <td>0.227931</td>\n",
       "    </tr>\n",
       "    <tr>\n",
       "      <th>3</th>\n",
       "      <td>800003</td>\n",
       "      <td>0.626123</td>\n",
       "      <td>0.299554</td>\n",
       "      <td>0.298638</td>\n",
       "      <td>0.236668</td>\n",
       "    </tr>\n",
       "    <tr>\n",
       "      <th>4</th>\n",
       "      <td>800004</td>\n",
       "      <td>0.712837</td>\n",
       "      <td>0.363835</td>\n",
       "      <td>0.388608</td>\n",
       "      <td>0.317470</td>\n",
       "    </tr>\n",
       "  </tbody>\n",
       "</table>\n",
       "</div>"
      ],
      "text/plain": [
       "       id  prob_lgb  prob_xgb  prob_cbt      prob\n",
       "0  800000  0.189512  0.052258  0.054796  0.023295\n",
       "1  800001  0.635726  0.308782  0.331217  0.254987\n",
       "2  800002  0.577289  0.264748  0.339922  0.227931\n",
       "3  800003  0.626123  0.299554  0.298638  0.236668\n",
       "4  800004  0.712837  0.363835  0.388608  0.317470"
      ]
     },
     "execution_count": 8,
     "metadata": {},
     "output_type": "execute_result"
    }
   ],
   "source": [
    "sub['prob'] = sub['prob_lgb'] ** w_lgb * sub['prob_xgb'] ** w_xgb * sub['prob_cbt'] ** w_cbt\n",
    "sub.head()"
   ]
  },
  {
   "cell_type": "code",
   "execution_count": 9,
   "metadata": {
    "ExecuteTime": {
     "end_time": "2020-11-09T01:29:09.999059Z",
     "start_time": "2020-11-09T01:29:09.599487Z"
    }
   },
   "outputs": [],
   "source": [
    "sub.rename({'prob': 'isDefault'}, axis=1, inplace=True)\n",
    "sub[['id', 'isDefault']].to_csv('sub/stacking.csv', index=False)"
   ]
  },
  {
   "cell_type": "code",
   "execution_count": null,
   "metadata": {},
   "outputs": [],
   "source": []
  }
 ],
 "metadata": {
  "kernelspec": {
   "display_name": "Python 3",
   "language": "python",
   "name": "python3"
  },
  "language_info": {
   "codemirror_mode": {
    "name": "ipython",
    "version": 3
   },
   "file_extension": ".py",
   "mimetype": "text/x-python",
   "name": "python",
   "nbconvert_exporter": "python",
   "pygments_lexer": "ipython3",
   "version": "3.7.6"
  }
 },
 "nbformat": 4,
 "nbformat_minor": 4
}
